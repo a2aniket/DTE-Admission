{
 "cells": [
  {
   "cell_type": "code",
   "execution_count": 50,
   "metadata": {},
   "outputs": [],
   "source": [
    "import pandas as pd\n",
    "import os"
   ]
  },
  {
   "cell_type": "code",
   "execution_count": 51,
   "metadata": {},
   "outputs": [],
   "source": [
    "Cap_three=pd.read_csv(\"../../data/processed/cap-3.csv\")\n",
    "Cap_three=Cap_three.drop([\"Unnamed: 0\"],axis=1)"
   ]
  },
  {
   "cell_type": "code",
   "execution_count": 52,
   "metadata": {},
   "outputs": [
    {
     "data": {
      "text/html": [
       "<div>\n",
       "<style scoped>\n",
       "    .dataframe tbody tr th:only-of-type {\n",
       "        vertical-align: middle;\n",
       "    }\n",
       "\n",
       "    .dataframe tbody tr th {\n",
       "        vertical-align: top;\n",
       "    }\n",
       "\n",
       "    .dataframe thead th {\n",
       "        text-align: right;\n",
       "    }\n",
       "</style>\n",
       "<table border=\"1\" class=\"dataframe\">\n",
       "  <thead>\n",
       "    <tr style=\"text-align: right;\">\n",
       "      <th></th>\n",
       "      <th>Merit No</th>\n",
       "      <th>Marks</th>\n",
       "      <th>Application ID</th>\n",
       "      <th>Name of Candidate</th>\n",
       "      <th>Gender</th>\n",
       "      <th>Category</th>\n",
       "      <th>Category id</th>\n",
       "      <th>Seat Type</th>\n",
       "      <th>PWD/DEF</th>\n",
       "      <th>Sub Group</th>\n",
       "      <th>sub group name</th>\n",
       "      <th>cource_code</th>\n",
       "      <th>cource code name</th>\n",
       "      <th>college_code</th>\n",
       "      <th>Institute dict</th>\n",
       "      <th>Institute Name</th>\n",
       "      <th>Seat conformation</th>\n",
       "      <th>Seat conformation id</th>\n",
       "    </tr>\n",
       "  </thead>\n",
       "  <tbody>\n",
       "    <tr>\n",
       "      <th>0</th>\n",
       "      <td>60</td>\n",
       "      <td>95.13</td>\n",
       "      <td>19106856</td>\n",
       "      <td>PAWAR SIDDHI RAVINDRASINGH</td>\n",
       "      <td>F</td>\n",
       "      <td>OPEN</td>\n",
       "      <td>1</td>\n",
       "      <td>LOPEN</td>\n",
       "      <td>NaN</td>\n",
       "      <td>201</td>\n",
       "      <td>Civil</td>\n",
       "      <td>201</td>\n",
       "      <td>Civil</td>\n",
       "      <td>1002</td>\n",
       "      <td>Amravati</td>\n",
       "      <td>Government College of Engineering, Amravati</td>\n",
       "      <td>^</td>\n",
       "      <td>1.0</td>\n",
       "    </tr>\n",
       "    <tr>\n",
       "      <th>1</th>\n",
       "      <td>213</td>\n",
       "      <td>93.38</td>\n",
       "      <td>19126045</td>\n",
       "      <td>MAHALLE SHRADDHA MOHANRAO</td>\n",
       "      <td>F</td>\n",
       "      <td>OBC</td>\n",
       "      <td>2</td>\n",
       "      <td>GOPEN</td>\n",
       "      <td>NaN</td>\n",
       "      <td>201</td>\n",
       "      <td>Civil</td>\n",
       "      <td>201</td>\n",
       "      <td>Civil</td>\n",
       "      <td>1002</td>\n",
       "      <td>Amravati</td>\n",
       "      <td>Government College of Engineering, Amravati</td>\n",
       "      <td>^</td>\n",
       "      <td>1.0</td>\n",
       "    </tr>\n",
       "    <tr>\n",
       "      <th>2</th>\n",
       "      <td>384</td>\n",
       "      <td>92.47</td>\n",
       "      <td>19105661</td>\n",
       "      <td>TUSHAR RAJESH LAHANE</td>\n",
       "      <td>M</td>\n",
       "      <td>OBC</td>\n",
       "      <td>2</td>\n",
       "      <td>GOBC</td>\n",
       "      <td>NaN</td>\n",
       "      <td>201</td>\n",
       "      <td>Civil</td>\n",
       "      <td>201</td>\n",
       "      <td>Civil</td>\n",
       "      <td>1002</td>\n",
       "      <td>Amravati</td>\n",
       "      <td>Government College of Engineering, Amravati</td>\n",
       "      <td>^</td>\n",
       "      <td>1.0</td>\n",
       "    </tr>\n",
       "    <tr>\n",
       "      <th>3</th>\n",
       "      <td>420</td>\n",
       "      <td>92.31</td>\n",
       "      <td>19103256</td>\n",
       "      <td>RAUT PALASH SUBHASH</td>\n",
       "      <td>M</td>\n",
       "      <td>OBC</td>\n",
       "      <td>2</td>\n",
       "      <td>GOBC</td>\n",
       "      <td>NaN</td>\n",
       "      <td>201</td>\n",
       "      <td>Civil</td>\n",
       "      <td>201</td>\n",
       "      <td>Civil</td>\n",
       "      <td>1002</td>\n",
       "      <td>Amravati</td>\n",
       "      <td>Government College of Engineering, Amravati</td>\n",
       "      <td>^</td>\n",
       "      <td>1.0</td>\n",
       "    </tr>\n",
       "    <tr>\n",
       "      <th>4</th>\n",
       "      <td>846</td>\n",
       "      <td>90.79</td>\n",
       "      <td>19148502</td>\n",
       "      <td>BIRAJDAR SAURABH DAYANAND</td>\n",
       "      <td>M</td>\n",
       "      <td>SEBC</td>\n",
       "      <td>3</td>\n",
       "      <td>GSEBC</td>\n",
       "      <td>NaN</td>\n",
       "      <td>201</td>\n",
       "      <td>Civil</td>\n",
       "      <td>201</td>\n",
       "      <td>Civil</td>\n",
       "      <td>1002</td>\n",
       "      <td>Amravati</td>\n",
       "      <td>Government College of Engineering, Amravati</td>\n",
       "      <td>^</td>\n",
       "      <td>1.0</td>\n",
       "    </tr>\n",
       "  </tbody>\n",
       "</table>\n",
       "</div>"
      ],
      "text/plain": [
       "   Merit No  Marks  Application ID           Name of Candidate Gender  \\\n",
       "0        60  95.13        19106856  PAWAR SIDDHI RAVINDRASINGH      F   \n",
       "1       213  93.38        19126045   MAHALLE SHRADDHA MOHANRAO      F   \n",
       "2       384  92.47        19105661        TUSHAR RAJESH LAHANE      M   \n",
       "3       420  92.31        19103256         RAUT PALASH SUBHASH      M   \n",
       "4       846  90.79        19148502   BIRAJDAR SAURABH DAYANAND      M   \n",
       "\n",
       "  Category  Category id Seat Type PWD/DEF  Sub Group sub group name  \\\n",
       "0     OPEN            1     LOPEN     NaN        201          Civil   \n",
       "1      OBC            2     GOPEN     NaN        201          Civil   \n",
       "2      OBC            2      GOBC     NaN        201          Civil   \n",
       "3      OBC            2      GOBC     NaN        201          Civil   \n",
       "4     SEBC            3     GSEBC     NaN        201          Civil   \n",
       "\n",
       "   cource_code cource code name  college_code Institute dict  \\\n",
       "0          201            Civil          1002       Amravati   \n",
       "1          201            Civil          1002       Amravati   \n",
       "2          201            Civil          1002       Amravati   \n",
       "3          201            Civil          1002       Amravati   \n",
       "4          201            Civil          1002       Amravati   \n",
       "\n",
       "                                Institute Name Seat conformation  \\\n",
       "0  Government College of Engineering, Amravati                 ^   \n",
       "1  Government College of Engineering, Amravati                 ^   \n",
       "2  Government College of Engineering, Amravati                 ^   \n",
       "3  Government College of Engineering, Amravati                 ^   \n",
       "4  Government College of Engineering, Amravati                 ^   \n",
       "\n",
       "   Seat conformation id  \n",
       "0                   1.0  \n",
       "1                   1.0  \n",
       "2                   1.0  \n",
       "3                   1.0  \n",
       "4                   1.0  "
      ]
     },
     "execution_count": 52,
     "metadata": {},
     "output_type": "execute_result"
    }
   ],
   "source": [
    "Cap_three.head()"
   ]
  },
  {
   "cell_type": "code",
   "execution_count": 53,
   "metadata": {},
   "outputs": [],
   "source": [
    "list_of_dist=Cap_three[\"Institute dict\"].unique()"
   ]
  },
  {
   "cell_type": "code",
   "execution_count": 62,
   "metadata": {},
   "outputs": [],
   "source": [
    "def create_dist_list(dist):\n",
    "    if os.path.exists(\"../../data/processed/dist data/{}\".format(dist)):\n",
    "        pass\n",
    "    else:\n",
    "        os.makedirs(\"../../data/processed/dist data/{}\".format(dist))\n",
    "        dist_data=Cap_three[Cap_three[\"Institute dict\"]==dist]\n",
    "        os.makedirs(\"../../data/processed/dist data/{}/all\".format(dist))\n",
    "        dist_data.to_csv(\"../../data/processed/dist data/{}/all/{}.csv\".format(dist,dist))\n",
    "    return None"
   ]
  },
  {
   "cell_type": "code",
   "execution_count": 63,
   "metadata": {},
   "outputs": [
    {
     "name": "stdout",
     "output_type": "stream",
     "text": [
      "nan\n",
      "Akola\n",
      "Buldhana\n",
      "Yavatmal\n",
      "Nanded\n",
      "Aurangabad\n",
      "Raigad\n",
      "Mumbai Suburban\n",
      "Thane\n",
      "Ratnagiri\n",
      "Nagpur\n",
      "Jalgaon\n",
      "Nashik\n",
      "Ahmednagar\n",
      "Kolhapur\n",
      "Pune\n",
      "Sangli\n",
      "Beed\n",
      "Washim\n",
      "Latur\n",
      "Osmanabad\n",
      "Jalna\n",
      "Parbhani\n",
      "Mumbai City\n",
      "Palghar\n",
      "Sindhudurg\n",
      "Chandrapur\n",
      "Wardha\n",
      "Bhandara\n",
      "Dhule\n",
      "Nandurbar\n",
      "Satara\n",
      "Solapur\n"
     ]
    }
   ],
   "source": [
    "for i in range(1,len(list_of_dist)):\n",
    "    print(list_of_dist[i])\n",
    "    create_dist_list(list_of_dist[i])"
   ]
  },
  {
   "cell_type": "code",
   "execution_count": 81,
   "metadata": {},
   "outputs": [],
   "source": [
    "def cast_classification(dist):\n",
    "        dist_data=pd.read_csv(\"../../data/processed/dist data/{}/all/{}.csv\".format(dist,dist))\n",
    "        cast=dist_data[\"Category\"].unique()\n",
    "        print(len(cast))\n",
    "        for i in range(len(cast)):\n",
    "            print(i)\n",
    "            cast_class=dist_data[dist_data[\"Category\"]==cast[i]]\n",
    "            file_name=''.join([word for word in cast[i] if word.isalpha() or word.isdigit()])\n",
    "            if os.path.exists(\"../../data/processed/dist data/{}/cast\".format(dist)):\n",
    "                print(\"File is exists\")\n",
    "                cast_class.to_csv(\"../../data/processed/dist data/{}/cast/{}.csv\".format(dist,file_name))\n",
    "            else:\n",
    "                print(\"File created\")\n",
    "                os.makedirs(\"../../data/processed/dist data/{}/cast\".format(dist))\n",
    "                cast_class.to_csv(\"../../data/processed/dist data/{}/cast/{}.csv\".format(dist,file_name))\n",
    "    \n",
    "    \n",
    "    "
   ]
  },
  {
   "cell_type": "code",
   "execution_count": 83,
   "metadata": {},
   "outputs": [
    {
     "name": "stdout",
     "output_type": "stream",
     "text": [
      "['Pune']\n",
      "11\n",
      "0\n",
      "File is exists\n",
      "1\n",
      "File is exists\n",
      "2\n",
      "File is exists\n",
      "3\n",
      "File is exists\n",
      "4\n",
      "File is exists\n",
      "5\n",
      "File is exists\n",
      "6\n",
      "File is exists\n",
      "7\n",
      "File is exists\n",
      "8\n",
      "File is exists\n",
      "9\n",
      "File is exists\n",
      "10\n",
      "File is exists\n"
     ]
    }
   ],
   "source": [
    "dist=df[\"Institute dict\"].unique()\n",
    "for i in range(len(dist)):\n",
    "    print(dist)\n",
    "    cast_classification(dist[i])"
   ]
  },
  {
   "cell_type": "code",
   "execution_count": null,
   "metadata": {},
   "outputs": [],
   "source": [
    "var=\"DT/VJNT(A)\""
   ]
  },
  {
   "cell_type": "code",
   "execution_count": 35,
   "metadata": {},
   "outputs": [
    {
     "data": {
      "text/plain": [
       "'DTVJNTA'"
      ]
     },
     "execution_count": 35,
     "metadata": {},
     "output_type": "execute_result"
    }
   ],
   "source": [
    "cast"
   ]
  },
  {
   "cell_type": "code",
   "execution_count": 43,
   "metadata": {},
   "outputs": [
    {
     "data": {
      "text/plain": [
       "True"
      ]
     },
     "execution_count": 43,
     "metadata": {},
     "output_type": "execute_result"
    }
   ],
   "source": [
    "os.path.exists(\"one\")"
   ]
  },
  {
   "cell_type": "code",
   "execution_count": null,
   "metadata": {},
   "outputs": [],
   "source": []
  }
 ],
 "metadata": {
  "kernelspec": {
   "display_name": "Python 3",
   "language": "python",
   "name": "python3"
  },
  "language_info": {
   "codemirror_mode": {
    "name": "ipython",
    "version": 3
   },
   "file_extension": ".py",
   "mimetype": "text/x-python",
   "name": "python",
   "nbconvert_exporter": "python",
   "pygments_lexer": "ipython3",
   "version": "3.7.6"
  }
 },
 "nbformat": 4,
 "nbformat_minor": 4
}
