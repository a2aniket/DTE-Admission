{
 "cells": [
  {
   "cell_type": "markdown",
   "metadata": {},
   "source": [
    "# Data Cleaning"
   ]
  },
  {
   "cell_type": "code",
   "execution_count": 1,
   "metadata": {},
   "outputs": [],
   "source": [
    "import pandas as pd\n",
    "import numpy as np"
   ]
  },
  {
   "cell_type": "code",
   "execution_count": 88,
   "metadata": {},
   "outputs": [
    {
     "data": {
      "text/html": [
       "<div>\n",
       "<style scoped>\n",
       "    .dataframe tbody tr th:only-of-type {\n",
       "        vertical-align: middle;\n",
       "    }\n",
       "\n",
       "    .dataframe tbody tr th {\n",
       "        vertical-align: top;\n",
       "    }\n",
       "\n",
       "    .dataframe thead th {\n",
       "        text-align: right;\n",
       "    }\n",
       "</style>\n",
       "<table border=\"1\" class=\"dataframe\">\n",
       "  <thead>\n",
       "    <tr style=\"text-align: right;\">\n",
       "      <th></th>\n",
       "      <th>Unnamed: 0</th>\n",
       "      <th>Unnamed: 0.1</th>\n",
       "      <th>Unnamed: 0.1.1</th>\n",
       "      <th>Sr.No.</th>\n",
       "      <th>Merit No</th>\n",
       "      <th>Marks</th>\n",
       "      <th>Application ID</th>\n",
       "      <th>Name of Candidate</th>\n",
       "      <th>Gender</th>\n",
       "      <th>Category</th>\n",
       "      <th>PWD/DEF</th>\n",
       "      <th>Sub Group</th>\n",
       "      <th>Seat Type</th>\n",
       "      <th>cource_code</th>\n",
       "      <th>college_code</th>\n",
       "    </tr>\n",
       "  </thead>\n",
       "  <tbody>\n",
       "    <tr>\n",
       "      <th>0</th>\n",
       "      <td>0</td>\n",
       "      <td>0</td>\n",
       "      <td>0</td>\n",
       "      <td>1</td>\n",
       "      <td>60</td>\n",
       "      <td>95.13%</td>\n",
       "      <td>DSE19106856</td>\n",
       "      <td>PAWAR SIDDHI RAVINDRASINGH</td>\n",
       "      <td>F</td>\n",
       "      <td>OPEN</td>\n",
       "      <td>NaN</td>\n",
       "      <td>201</td>\n",
       "      <td>^LOPEN</td>\n",
       "      <td>201</td>\n",
       "      <td>1002</td>\n",
       "    </tr>\n",
       "    <tr>\n",
       "      <th>1</th>\n",
       "      <td>1</td>\n",
       "      <td>1</td>\n",
       "      <td>1</td>\n",
       "      <td>2</td>\n",
       "      <td>213</td>\n",
       "      <td>93.38%</td>\n",
       "      <td>DSE19126045</td>\n",
       "      <td>MAHALLE SHRADDHA MOHANRAO</td>\n",
       "      <td>F</td>\n",
       "      <td>OBC</td>\n",
       "      <td>NaN</td>\n",
       "      <td>201</td>\n",
       "      <td>^GOPEN</td>\n",
       "      <td>201</td>\n",
       "      <td>1002</td>\n",
       "    </tr>\n",
       "    <tr>\n",
       "      <th>2</th>\n",
       "      <td>2</td>\n",
       "      <td>2</td>\n",
       "      <td>2</td>\n",
       "      <td>3</td>\n",
       "      <td>384</td>\n",
       "      <td>92.47%</td>\n",
       "      <td>DSE19105661</td>\n",
       "      <td>TUSHAR RAJESH LAHANE</td>\n",
       "      <td>M</td>\n",
       "      <td>OBC</td>\n",
       "      <td>NaN</td>\n",
       "      <td>201</td>\n",
       "      <td>^GOBC</td>\n",
       "      <td>201</td>\n",
       "      <td>1002</td>\n",
       "    </tr>\n",
       "    <tr>\n",
       "      <th>3</th>\n",
       "      <td>3</td>\n",
       "      <td>3</td>\n",
       "      <td>3</td>\n",
       "      <td>4</td>\n",
       "      <td>420</td>\n",
       "      <td>92.31%</td>\n",
       "      <td>DSE19103256</td>\n",
       "      <td>RAUT PALASH SUBHASH</td>\n",
       "      <td>M</td>\n",
       "      <td>OBC</td>\n",
       "      <td>NaN</td>\n",
       "      <td>201</td>\n",
       "      <td>^GOBC</td>\n",
       "      <td>201</td>\n",
       "      <td>1002</td>\n",
       "    </tr>\n",
       "    <tr>\n",
       "      <th>4</th>\n",
       "      <td>4</td>\n",
       "      <td>4</td>\n",
       "      <td>4</td>\n",
       "      <td>5</td>\n",
       "      <td>846</td>\n",
       "      <td>90.79%</td>\n",
       "      <td>DSE19148502</td>\n",
       "      <td>BIRAJDAR SAURABH DAYANAND</td>\n",
       "      <td>M</td>\n",
       "      <td>SEBC</td>\n",
       "      <td>NaN</td>\n",
       "      <td>201</td>\n",
       "      <td>^GSEBC</td>\n",
       "      <td>201</td>\n",
       "      <td>1002</td>\n",
       "    </tr>\n",
       "  </tbody>\n",
       "</table>\n",
       "</div>"
      ],
      "text/plain": [
       "   Unnamed: 0  Unnamed: 0.1  Unnamed: 0.1.1  Sr.No. Merit No   Marks  \\\n",
       "0           0             0               0       1       60  95.13%   \n",
       "1           1             1               1       2      213  93.38%   \n",
       "2           2             2               2       3      384  92.47%   \n",
       "3           3             3               3       4      420  92.31%   \n",
       "4           4             4               4       5      846  90.79%   \n",
       "\n",
       "  Application ID           Name of Candidate Gender Category PWD/DEF  \\\n",
       "0    DSE19106856  PAWAR SIDDHI RAVINDRASINGH      F     OPEN     NaN   \n",
       "1    DSE19126045   MAHALLE SHRADDHA MOHANRAO      F      OBC     NaN   \n",
       "2    DSE19105661        TUSHAR RAJESH LAHANE      M      OBC     NaN   \n",
       "3    DSE19103256         RAUT PALASH SUBHASH      M      OBC     NaN   \n",
       "4    DSE19148502   BIRAJDAR SAURABH DAYANAND      M     SEBC     NaN   \n",
       "\n",
       "  Sub Group Seat Type  cource_code  college_code  \n",
       "0       201    ^LOPEN          201          1002  \n",
       "1       201    ^GOPEN          201          1002  \n",
       "2       201     ^GOBC          201          1002  \n",
       "3       201     ^GOBC          201          1002  \n",
       "4       201    ^GSEBC          201          1002  "
      ]
     },
     "execution_count": 88,
     "metadata": {},
     "output_type": "execute_result"
    }
   ],
   "source": [
    "dataframe=pd.read_csv(\"../../data/raw/cap-3 student info.csv\")\n",
    "dataframe.head()"
   ]
  },
  {
   "cell_type": "code",
   "execution_count": 89,
   "metadata": {},
   "outputs": [],
   "source": [
    "dataframe.drop([\"Unnamed: 0\",\"Unnamed: 0.1\"],axis=1,inplace=True)"
   ]
  },
  {
   "cell_type": "markdown",
   "metadata": {},
   "source": [
    "## Feature clearing"
   ]
  },
  {
   "cell_type": "markdown",
   "metadata": {},
   "source": [
    "### Feature [\"Mert No\"]"
   ]
  },
  {
   "cell_type": "markdown",
   "metadata": {},
   "source": [
    "Marks have some vacant anoted by \"-\" they showd be convertd as 0  "
   ]
  },
  {
   "cell_type": "code",
   "execution_count": 90,
   "metadata": {},
   "outputs": [],
   "source": [
    "dataframe[\"Merit No\"]=dataframe[\"Merit No\"].astype(str)\n",
    "vacent_entres=dataframe[dataframe[\"Merit No\"]==\"-\"].index.values\n",
    "dataframe.iloc[vacent_entres]=0"
   ]
  },
  {
   "cell_type": "markdown",
   "metadata": {},
   "source": [
    "The feature mert no have all the integer feature it shoud be integer"
   ]
  },
  {
   "cell_type": "code",
   "execution_count": 91,
   "metadata": {},
   "outputs": [],
   "source": [
    "dataframe[\"Merit No\"] = pd.to_numeric(dataframe[\"Merit No\"], errors='coerce').fillna(0).astype(np.int64)"
   ]
  },
  {
   "cell_type": "markdown",
   "metadata": {},
   "source": [
    "### Feature [Marks]"
   ]
  },
  {
   "cell_type": "markdown",
   "metadata": {},
   "source": [
    "The marks in format of % eg 80.0% they should converted as 80.0 "
   ]
  },
  {
   "cell_type": "code",
   "execution_count": 92,
   "metadata": {},
   "outputs": [],
   "source": [
    "dataframe[\"Marks\"]=dataframe[\"Marks\"].astype(str)"
   ]
  },
  {
   "cell_type": "code",
   "execution_count": 93,
   "metadata": {},
   "outputs": [
    {
     "data": {
      "text/plain": [
       "73580"
      ]
     },
     "execution_count": 93,
     "metadata": {},
     "output_type": "execute_result"
    }
   ],
   "source": [
    "length=dataframe.shape\n",
    "length[0]"
   ]
  },
  {
   "cell_type": "markdown",
   "metadata": {},
   "source": [
    "removig %"
   ]
  },
  {
   "cell_type": "code",
   "execution_count": 94,
   "metadata": {},
   "outputs": [
    {
     "name": "stderr",
     "output_type": "stream",
     "text": [
      "C:\\Users\\shubham\\anaconda3\\lib\\site-packages\\pandas\\core\\indexing.py:670: SettingWithCopyWarning: \n",
      "A value is trying to be set on a copy of a slice from a DataFrame\n",
      "\n",
      "See the caveats in the documentation: https://pandas.pydata.org/pandas-docs/stable/user_guide/indexing.html#returning-a-view-versus-a-copy\n",
      "  self._setitem_with_indexer(indexer, value)\n"
     ]
    }
   ],
   "source": [
    "for i in range(length[0]):\n",
    "    data=dataframe[\"Marks\"].iloc[i]\n",
    "    if data!=0:\n",
    "        data=''.join([ word for word  in data if word.isdigit() or word==\".\"])\n",
    "        dataframe[\"Marks\"].iloc[i]=data"
   ]
  },
  {
   "cell_type": "code",
   "execution_count": 95,
   "metadata": {},
   "outputs": [],
   "source": [
    "dataframe[\"Marks\"] = pd.to_numeric(dataframe[\"Marks\"], errors='coerce').fillna(0).astype(np.float64)"
   ]
  },
  {
   "cell_type": "markdown",
   "metadata": {},
   "source": [
    "### Feature [Application Id]"
   ]
  },
  {
   "cell_type": "markdown",
   "metadata": {},
   "source": [
    "The application id is only the feature that can uniqly identify student bot the application id is in format DSE12458. if move remove [DSE] from the if goood o have id as Integer"
   ]
  },
  {
   "cell_type": "code",
   "execution_count": 96,
   "metadata": {},
   "outputs": [],
   "source": [
    "dataframe[\"Application ID\"]=dataframe[\"Application ID\"].astype(str)"
   ]
  },
  {
   "cell_type": "code",
   "execution_count": 97,
   "metadata": {},
   "outputs": [],
   "source": [
    "for i in range(length[0]):\n",
    "    data=dataframe[\"Application ID\"].iloc[i]\n",
    "    if  data !=0:\n",
    "        data=''.join([word for word in data if  word.isdigit()])\n",
    "        dataframe[\"Application ID\"].iloc[i]=data"
   ]
  },
  {
   "cell_type": "code",
   "execution_count": 98,
   "metadata": {},
   "outputs": [],
   "source": [
    "dataframe[\"Application ID\"] = pd.to_numeric(dataframe[\"Application ID\"], errors='coerce').fillna(0).astype(np.int64)"
   ]
  },
  {
   "cell_type": "markdown",
   "metadata": {},
   "source": [
    "### Feature [Seat Type]"
   ]
  },
  {
   "cell_type": "markdown",
   "metadata": {},
   "source": [
    "The feature seat type contain the spacial symobols witch can affect model.It better to remove the symboles"
   ]
  },
  {
   "cell_type": "code",
   "execution_count": 99,
   "metadata": {},
   "outputs": [],
   "source": [
    "dataframe[\"Seat Type\"]=dataframe[\"Seat Type\"].astype(str)"
   ]
  },
  {
   "cell_type": "code",
   "execution_count": 100,
   "metadata": {},
   "outputs": [],
   "source": [
    "dataframe[\"Seat conformation\"]=np.nan\n",
    "for i in range(length[0]):\n",
    "    data=dataframe[\"Seat Type\"].iloc[i]\n",
    "    if data!=0:\n",
    "        data=''.join([word for word in data if not word.isalnum()])\n",
    "        dataframe[\"Seat conformation\"].iloc[i]=data        "
   ]
  },
  {
   "cell_type": "code",
   "execution_count": 101,
   "metadata": {},
   "outputs": [],
   "source": [
    "for i in range(length[0]):\n",
    "    data=dataframe[\"Seat Type\"].iloc[i]\n",
    "    if data!=0:\n",
    "        data=''.join([word for word in data if word.isalpha()])\n",
    "        dataframe[\"Seat Type\"].iloc[i]=data"
   ]
  },
  {
   "cell_type": "code",
   "execution_count": 102,
   "metadata": {},
   "outputs": [
    {
     "data": {
      "text/plain": [
       "array(['^', '', '&', '#', '*', '^-', '@', '&-', '#-', '*-'], dtype=object)"
      ]
     },
     "execution_count": 102,
     "metadata": {},
     "output_type": "execute_result"
    }
   ],
   "source": [
    "dataframe[\"Seat conformation\"].unique()"
   ]
  },
  {
   "cell_type": "code",
   "execution_count": 103,
   "metadata": {},
   "outputs": [],
   "source": [
    "seat_conformation=({    \n",
    "    '^':1,\n",
    "    '#':2,\n",
    "    '*':3,\n",
    "    '*-':3,\n",
    "    '&':4,\n",
    "    '&-':4,\n",
    "    '@':5,\n",
    "})\n",
    "dataframe[\"Seat conformation id\"]=dataframe[\"Seat conformation\"].map(seat_conformation)"
   ]
  },
  {
   "cell_type": "code",
   "execution_count": 104,
   "metadata": {},
   "outputs": [
    {
     "data": {
      "text/plain": [
       "array(['LOPEN', 'GOPEN', 'GOBC', 'GSEBC', 'LSC', 'EWS', 'LST', '', 'LOBC',\n",
       "       'GST', 'GNTD', 'GSC', 'DFO', 'LSEBC', 'PHNTA', 'PHNTB', 'DFNTC',\n",
       "       'PHO', 'GNTA', 'LNTC', 'PHNTD', 'DFNTB', 'PHOBC', 'PHSEBC', 'LNTA',\n",
       "       'GNTC', 'LNTB', 'MIMH', 'GNTB', 'DFSC', 'DFOBC', 'PHST', 'MI',\n",
       "       'DFNTA', 'PHSC', 'DFST', 'DFSEBC', 'DFNTD', 'PHNTC', 'LNTD'],\n",
       "      dtype=object)"
      ]
     },
     "execution_count": 104,
     "metadata": {},
     "output_type": "execute_result"
    }
   ],
   "source": [
    "dataframe[\"Seat Type\"].unique()"
   ]
  },
  {
   "cell_type": "markdown",
   "metadata": {},
   "source": [
    "### Feature [Category]"
   ]
  },
  {
   "cell_type": "markdown",
   "metadata": {},
   "source": [
    "The feature invalid symboles"
   ]
  },
  {
   "cell_type": "code",
   "execution_count": 105,
   "metadata": {},
   "outputs": [],
   "source": [
    "for i in range(length[0]):\n",
    "    data=dataframe[\"Category\"].iloc[i]\n",
    "    if data!=0:\n",
    "        data=''.join([word for word in data if word.isalpha() or word.isdigit() or word == \"/\" or word==\"(\" or word==\")\"])\n",
    "        dataframe[\"Category\"].iloc[i]=data"
   ]
  },
  {
   "cell_type": "code",
   "execution_count": 106,
   "metadata": {},
   "outputs": [
    {
     "data": {
      "text/plain": [
       "array(['OPEN', 'OBC', 'SEBC', 'SC', 'OPEN/EWS', 'ST', 0, 'NT1(NTB)',\n",
       "       'NT3(NTD)', 'DT/VJNT(A)', 'NT2(NTC)', 'SBC/OBC', '0'], dtype=object)"
      ]
     },
     "execution_count": 106,
     "metadata": {},
     "output_type": "execute_result"
    }
   ],
   "source": [
    "dataframe[\"Category\"].unique()"
   ]
  },
  {
   "cell_type": "code",
   "execution_count": 107,
   "metadata": {},
   "outputs": [],
   "source": [
    "category_unique=dict({\n",
    "    \"OPEN\":\"OPEN\",\n",
    "    \"OBC\":\"OBC\",\n",
    "    \"SEBC\":\"SEBC\",\n",
    "    \"SC\":\"SC\",\n",
    "    \"OPEN/EWS\":\"OPEN/EWS\",\n",
    "    \"ST\":\"ST\",\n",
    "    \"NT1(NTB)\":\"NT1\",\n",
    "    \"NT2(NTC)\":\"NT2\",\n",
    "    \"NT3(NTD)\":\"NT3\",\n",
    "    \"SBC/OBC\":\"SBC/OBC\",\n",
    "    \"DT/VJNT(A)\":\"DT/VJNT(A)\",\n",
    "    \"SBC\":\"SBC\"\n",
    "})\n",
    "\n",
    "dataframe[\"Category\"]=dataframe[\"Category\"].map(category_unique)"
   ]
  },
  {
   "cell_type": "code",
   "execution_count": 108,
   "metadata": {},
   "outputs": [
    {
     "data": {
      "text/plain": [
       "array(['OPEN', 'OBC', 'SEBC', 'SC', 'OPEN/EWS', 'ST', nan, 'NT1', 'NT3',\n",
       "       'DT/VJNT(A)', 'NT2', 'SBC/OBC'], dtype=object)"
      ]
     },
     "execution_count": 108,
     "metadata": {},
     "output_type": "execute_result"
    }
   ],
   "source": [
    "dataframe[\"Category\"].unique()"
   ]
  },
  {
   "cell_type": "code",
   "execution_count": 109,
   "metadata": {},
   "outputs": [],
   "source": [
    "category_unique=dict({\n",
    "    \"OPEN\":1,\n",
    "    \"OBC\":2,\n",
    "    \"SEBC\":3,\n",
    "    \"SC\":4,\n",
    "    \"OPEN/EWS\":5,\n",
    "    \"ST\":6,\n",
    "    \"NT1\":7,\n",
    "    \"NT2\":8,\n",
    "    \"NT3\":9,\n",
    "    \"SBC/OBC\":10,\n",
    "    \"DT/VJNT(A)\":11,\n",
    "    \"SBC\":12\n",
    "})\n",
    "dataframe[\"Category id\"]=dataframe[\"Category\"].map(category_unique)"
   ]
  },
  {
   "cell_type": "code",
   "execution_count": 110,
   "metadata": {},
   "outputs": [],
   "source": [
    "dataframe[\"Category id\"] = pd.to_numeric(dataframe[\"Category id\"], errors='coerce').fillna(0).astype(np.int64)"
   ]
  },
  {
   "cell_type": "code",
   "execution_count": 111,
   "metadata": {},
   "outputs": [
    {
     "data": {
      "text/plain": [
       "array([ 1,  2,  3,  4,  5,  6,  0,  7,  9, 11,  8, 10], dtype=int64)"
      ]
     },
     "execution_count": 111,
     "metadata": {},
     "output_type": "execute_result"
    }
   ],
   "source": [
    "dataframe[\"Category id\"].unique()"
   ]
  },
  {
   "cell_type": "markdown",
   "metadata": {},
   "source": [
    "###  Feature [Gender]"
   ]
  },
  {
   "cell_type": "code",
   "execution_count": 112,
   "metadata": {},
   "outputs": [],
   "source": [
    "dataframe[\"Gender\"]=dataframe[\"Gender\"].astype(str)"
   ]
  },
  {
   "cell_type": "markdown",
   "metadata": {},
   "source": [
    "### Feature [PWD/DEF]"
   ]
  },
  {
   "cell_type": "markdown",
   "metadata": {},
   "source": [
    "PWD/DEF invalis carater such as /n /r"
   ]
  },
  {
   "cell_type": "code",
   "execution_count": 113,
   "metadata": {},
   "outputs": [
    {
     "data": {
      "text/plain": [
       "array([nan, 0, 'Hard of \\r\\nHearing', 'DEF2', 'DEF1', 'Low-Vision',\n",
       "       'Physical \\r\\nimpairment', 'Locomotor \\r\\nDisability', '0',\n",
       "       'Thalassemia', 'Deaf', 'Blindness',\n",
       "       'Specific \\r\\nLearning \\r\\nDisabilities', 'DEF3',\n",
       "       'Cerebral \\r\\nPalsy', 'Intellectual \\r\\nDisability', 'Haemophilia',\n",
       "       'Muscular \\r\\nDystrophy', 'Physical \\r\\nimpairment/DEF1'],\n",
       "      dtype=object)"
      ]
     },
     "execution_count": 113,
     "metadata": {},
     "output_type": "execute_result"
    }
   ],
   "source": [
    "dataframe[\"PWD/DEF\"].unique()"
   ]
  },
  {
   "cell_type": "code",
   "execution_count": 114,
   "metadata": {},
   "outputs": [],
   "source": [
    "pwd_def=dict({\n",
    "  \"Locomotor \\r\\nDisability\":\"Locomotor Disability\",\n",
    "  \"Physical \\r\\nimpairment\":\"Physical impairment\",\n",
    "  \"Hard of \\r\\nHearing\":\"Hard of Hearing\",\n",
    "  \"Specific \\r\\nLearning \\r\\nDisabilities\":\"Specific Learning Disabilities\",\n",
    "  \"Cerebral \\r\\nPalsy\":\"Cerebral Palsy\",\n",
    "  \"Muscular \\r\\nDystrophy\":\"Muscular Dystrophy\",\n",
    "  \"Physical \\r\\nimpairment/DEF1\":\"Physical impairment DEF1\",\n",
    "  \"Intellectual \\r\\nDisability\":\"Intellectual Disability\"\n",
    "})\n",
    "dataframe[\"PWD/DEF\"]=dataframe[\"PWD/DEF\"].map(pwd_def)"
   ]
  },
  {
   "cell_type": "code",
   "execution_count": 115,
   "metadata": {},
   "outputs": [
    {
     "data": {
      "text/plain": [
       "array([nan, 'Hard of Hearing', 'Physical impairment',\n",
       "       'Locomotor Disability', 'Specific Learning Disabilities',\n",
       "       'Cerebral Palsy', 'Intellectual Disability', 'Muscular Dystrophy',\n",
       "       'Physical impairment DEF1'], dtype=object)"
      ]
     },
     "execution_count": 115,
     "metadata": {},
     "output_type": "execute_result"
    }
   ],
   "source": [
    "dataframe[\"PWD/DEF\"].unique()"
   ]
  },
  {
   "cell_type": "markdown",
   "metadata": {},
   "source": [
    "### Feature [Sub Group]"
   ]
  },
  {
   "cell_type": "code",
   "execution_count": 116,
   "metadata": {},
   "outputs": [],
   "source": [
    "dataframe[\"Sub Group\"]=dataframe[\"Sub Group\"].astype(str)\n",
    "for i in range(length[0]):\n",
    "    code=dataframe[\"Sub Group\"].iloc[i]\n",
    "    dataframe[\"Sub Group\"].iloc[i]=code[-3:].lower()"
   ]
  },
  {
   "cell_type": "code",
   "execution_count": 117,
   "metadata": {},
   "outputs": [
    {
     "data": {
      "text/plain": [
       "array(['201', '0', '101', '702', '102', '401', '103', '701', 'sc.', '301',\n",
       "       '404', '302', '104', '304', '1.0', '402', '501', '303', '305',\n",
       "       '403', '601'], dtype=object)"
      ]
     },
     "execution_count": 117,
     "metadata": {},
     "output_type": "execute_result"
    }
   ],
   "source": [
    "dataframe[\"Sub Group\"].unique()"
   ]
  },
  {
   "cell_type": "code",
   "execution_count": 118,
   "metadata": {},
   "outputs": [],
   "source": [
    "dataframe[\"Sub Group\"] = pd.to_numeric(dataframe[\"Sub Group\"], errors='coerce').fillna(0).astype(np.int64)"
   ]
  },
  {
   "cell_type": "code",
   "execution_count": 119,
   "metadata": {},
   "outputs": [],
   "source": [
    "cource_data=({   \n",
    "    101:\"Chemical\",\n",
    "    102:\"Plastic\",\n",
    "    103:\"Food Technology\",\n",
    "    104:\"Oil and Paints Technology\",\n",
    "    105:\"\",\n",
    "    201 :\"Civil\",\n",
    "    301:\"Computer & IT\",\n",
    "    303:\" Medical Electronics\",\n",
    "    304:\"Electrical\",\n",
    "    302:\"ENTC\",\n",
    "    305:\"Instrumentation\",\n",
    "    401:\"Machanical\",\n",
    "    402:\"Production\",\n",
    "    403:\"Packaging Technology\",\n",
    "    404:\"Metallurgy (Foundry Technology)\",\n",
    "    405:\"Aeronautical Engineering\",\n",
    "    501:\"Mining\",\n",
    "    601:\"Printing Technology\",\n",
    "    701:\"Knitting Technology\",\n",
    "    702:\"Man made Textile Chemistry\",\n",
    "})\n",
    "dataframe[\"sub group name\"]=dataframe[\"Sub Group\"].map(cource_data)\n",
    "dataframe[\"cource code name\"]=dataframe[\"cource_code\"].map(cource_data)"
   ]
  },
  {
   "cell_type": "markdown",
   "metadata": {},
   "source": [
    "### Add College Name"
   ]
  },
  {
   "cell_type": "markdown",
   "metadata": {},
   "source": [
    "The data scource only have college code we have to add collage name"
   ]
  },
  {
   "cell_type": "code",
   "execution_count": 120,
   "metadata": {},
   "outputs": [
    {
     "data": {
      "text/html": [
       "<div>\n",
       "<style scoped>\n",
       "    .dataframe tbody tr th:only-of-type {\n",
       "        vertical-align: middle;\n",
       "    }\n",
       "\n",
       "    .dataframe tbody tr th {\n",
       "        vertical-align: top;\n",
       "    }\n",
       "\n",
       "    .dataframe thead th {\n",
       "        text-align: right;\n",
       "    }\n",
       "</style>\n",
       "<table border=\"1\" class=\"dataframe\">\n",
       "  <thead>\n",
       "    <tr style=\"text-align: right;\">\n",
       "      <th></th>\n",
       "      <th>Institute Name</th>\n",
       "    </tr>\n",
       "    <tr>\n",
       "      <th>Institute Code</th>\n",
       "      <th></th>\n",
       "    </tr>\n",
       "  </thead>\n",
       "  <tbody>\n",
       "    <tr>\n",
       "      <th>1002</th>\n",
       "      <td>Government College of Engineering, Amravati</td>\n",
       "    </tr>\n",
       "    <tr>\n",
       "      <th>1005</th>\n",
       "      <td>Sant Gadge Baba Amravati University,Amravati</td>\n",
       "    </tr>\n",
       "    <tr>\n",
       "      <th>1012</th>\n",
       "      <td>Government Engineering College, Yavatmal</td>\n",
       "    </tr>\n",
       "    <tr>\n",
       "      <th>1101</th>\n",
       "      <td>Shri Sant Gajanan Maharaj College of Engineeri...</td>\n",
       "    </tr>\n",
       "    <tr>\n",
       "      <th>1105</th>\n",
       "      <td>Prof. Ram Meghe Institute of Technology &amp; Rese...</td>\n",
       "    </tr>\n",
       "  </tbody>\n",
       "</table>\n",
       "</div>"
      ],
      "text/plain": [
       "                                                   Institute Name\n",
       "Institute Code                                                   \n",
       "1002                  Government College of Engineering, Amravati\n",
       "1005                 Sant Gadge Baba Amravati University,Amravati\n",
       "1012                     Government Engineering College, Yavatmal\n",
       "1101            Shri Sant Gajanan Maharaj College of Engineeri...\n",
       "1105            Prof. Ram Meghe Institute of Technology & Rese..."
      ]
     },
     "execution_count": 120,
     "metadata": {},
     "output_type": "execute_result"
    }
   ],
   "source": [
    "college_data=pd.read_csv(\"../../data/raw/college maping.csv\",index_col=[\"Institute Code\"],usecols=None,)\n",
    "college_data.drop([\"Unnamed: 0\"],axis=1,inplace=True)\n",
    "college_data.head()"
   ]
  },
  {
   "cell_type": "code",
   "execution_count": 121,
   "metadata": {},
   "outputs": [],
   "source": [
    "data=college_data.to_dict()\n",
    "data=data['Institute Name']"
   ]
  },
  {
   "cell_type": "code",
   "execution_count": 122,
   "metadata": {},
   "outputs": [],
   "source": [
    "dataframe[\"Institute Name\"]=dataframe[\"college_code\"].map(data)"
   ]
  },
  {
   "cell_type": "code",
   "execution_count": 123,
   "metadata": {},
   "outputs": [
    {
     "data": {
      "text/html": [
       "<div>\n",
       "<style scoped>\n",
       "    .dataframe tbody tr th:only-of-type {\n",
       "        vertical-align: middle;\n",
       "    }\n",
       "\n",
       "    .dataframe tbody tr th {\n",
       "        vertical-align: top;\n",
       "    }\n",
       "\n",
       "    .dataframe thead th {\n",
       "        text-align: right;\n",
       "    }\n",
       "</style>\n",
       "<table border=\"1\" class=\"dataframe\">\n",
       "  <thead>\n",
       "    <tr style=\"text-align: right;\">\n",
       "      <th></th>\n",
       "      <th>Unnamed: 0.1.1</th>\n",
       "      <th>Sr.No.</th>\n",
       "      <th>Merit No</th>\n",
       "      <th>Marks</th>\n",
       "      <th>Application ID</th>\n",
       "      <th>Name of Candidate</th>\n",
       "      <th>Gender</th>\n",
       "      <th>Category</th>\n",
       "      <th>PWD/DEF</th>\n",
       "      <th>Sub Group</th>\n",
       "      <th>Seat Type</th>\n",
       "      <th>cource_code</th>\n",
       "      <th>college_code</th>\n",
       "      <th>Seat conformation</th>\n",
       "      <th>Seat conformation id</th>\n",
       "      <th>Category id</th>\n",
       "      <th>sub group name</th>\n",
       "      <th>cource code name</th>\n",
       "      <th>Institute Name</th>\n",
       "    </tr>\n",
       "  </thead>\n",
       "  <tbody>\n",
       "    <tr>\n",
       "      <th>0</th>\n",
       "      <td>0</td>\n",
       "      <td>1</td>\n",
       "      <td>60</td>\n",
       "      <td>95.13</td>\n",
       "      <td>19106856</td>\n",
       "      <td>PAWAR SIDDHI RAVINDRASINGH</td>\n",
       "      <td>F</td>\n",
       "      <td>OPEN</td>\n",
       "      <td>NaN</td>\n",
       "      <td>201</td>\n",
       "      <td>LOPEN</td>\n",
       "      <td>201</td>\n",
       "      <td>1002</td>\n",
       "      <td>^</td>\n",
       "      <td>1.0</td>\n",
       "      <td>1</td>\n",
       "      <td>Civil</td>\n",
       "      <td>Civil</td>\n",
       "      <td>Government College of Engineering, Amravati</td>\n",
       "    </tr>\n",
       "    <tr>\n",
       "      <th>1</th>\n",
       "      <td>1</td>\n",
       "      <td>2</td>\n",
       "      <td>213</td>\n",
       "      <td>93.38</td>\n",
       "      <td>19126045</td>\n",
       "      <td>MAHALLE SHRADDHA MOHANRAO</td>\n",
       "      <td>F</td>\n",
       "      <td>OBC</td>\n",
       "      <td>NaN</td>\n",
       "      <td>201</td>\n",
       "      <td>GOPEN</td>\n",
       "      <td>201</td>\n",
       "      <td>1002</td>\n",
       "      <td>^</td>\n",
       "      <td>1.0</td>\n",
       "      <td>2</td>\n",
       "      <td>Civil</td>\n",
       "      <td>Civil</td>\n",
       "      <td>Government College of Engineering, Amravati</td>\n",
       "    </tr>\n",
       "    <tr>\n",
       "      <th>2</th>\n",
       "      <td>2</td>\n",
       "      <td>3</td>\n",
       "      <td>384</td>\n",
       "      <td>92.47</td>\n",
       "      <td>19105661</td>\n",
       "      <td>TUSHAR RAJESH LAHANE</td>\n",
       "      <td>M</td>\n",
       "      <td>OBC</td>\n",
       "      <td>NaN</td>\n",
       "      <td>201</td>\n",
       "      <td>GOBC</td>\n",
       "      <td>201</td>\n",
       "      <td>1002</td>\n",
       "      <td>^</td>\n",
       "      <td>1.0</td>\n",
       "      <td>2</td>\n",
       "      <td>Civil</td>\n",
       "      <td>Civil</td>\n",
       "      <td>Government College of Engineering, Amravati</td>\n",
       "    </tr>\n",
       "    <tr>\n",
       "      <th>3</th>\n",
       "      <td>3</td>\n",
       "      <td>4</td>\n",
       "      <td>420</td>\n",
       "      <td>92.31</td>\n",
       "      <td>19103256</td>\n",
       "      <td>RAUT PALASH SUBHASH</td>\n",
       "      <td>M</td>\n",
       "      <td>OBC</td>\n",
       "      <td>NaN</td>\n",
       "      <td>201</td>\n",
       "      <td>GOBC</td>\n",
       "      <td>201</td>\n",
       "      <td>1002</td>\n",
       "      <td>^</td>\n",
       "      <td>1.0</td>\n",
       "      <td>2</td>\n",
       "      <td>Civil</td>\n",
       "      <td>Civil</td>\n",
       "      <td>Government College of Engineering, Amravati</td>\n",
       "    </tr>\n",
       "    <tr>\n",
       "      <th>4</th>\n",
       "      <td>4</td>\n",
       "      <td>5</td>\n",
       "      <td>846</td>\n",
       "      <td>90.79</td>\n",
       "      <td>19148502</td>\n",
       "      <td>BIRAJDAR SAURABH DAYANAND</td>\n",
       "      <td>M</td>\n",
       "      <td>SEBC</td>\n",
       "      <td>NaN</td>\n",
       "      <td>201</td>\n",
       "      <td>GSEBC</td>\n",
       "      <td>201</td>\n",
       "      <td>1002</td>\n",
       "      <td>^</td>\n",
       "      <td>1.0</td>\n",
       "      <td>3</td>\n",
       "      <td>Civil</td>\n",
       "      <td>Civil</td>\n",
       "      <td>Government College of Engineering, Amravati</td>\n",
       "    </tr>\n",
       "    <tr>\n",
       "      <th>...</th>\n",
       "      <td>...</td>\n",
       "      <td>...</td>\n",
       "      <td>...</td>\n",
       "      <td>...</td>\n",
       "      <td>...</td>\n",
       "      <td>...</td>\n",
       "      <td>...</td>\n",
       "      <td>...</td>\n",
       "      <td>...</td>\n",
       "      <td>...</td>\n",
       "      <td>...</td>\n",
       "      <td>...</td>\n",
       "      <td>...</td>\n",
       "      <td>...</td>\n",
       "      <td>...</td>\n",
       "      <td>...</td>\n",
       "      <td>...</td>\n",
       "      <td>...</td>\n",
       "      <td>...</td>\n",
       "    </tr>\n",
       "    <tr>\n",
       "      <th>95</th>\n",
       "      <td>0</td>\n",
       "      <td>0</td>\n",
       "      <td>0</td>\n",
       "      <td>0.00</td>\n",
       "      <td>0</td>\n",
       "      <td>0</td>\n",
       "      <td>0</td>\n",
       "      <td>NaN</td>\n",
       "      <td>NaN</td>\n",
       "      <td>0</td>\n",
       "      <td></td>\n",
       "      <td>0</td>\n",
       "      <td>0</td>\n",
       "      <td></td>\n",
       "      <td>NaN</td>\n",
       "      <td>0</td>\n",
       "      <td>NaN</td>\n",
       "      <td>NaN</td>\n",
       "      <td>NaN</td>\n",
       "    </tr>\n",
       "    <tr>\n",
       "      <th>96</th>\n",
       "      <td>0</td>\n",
       "      <td>0</td>\n",
       "      <td>0</td>\n",
       "      <td>0.00</td>\n",
       "      <td>0</td>\n",
       "      <td>0</td>\n",
       "      <td>0</td>\n",
       "      <td>NaN</td>\n",
       "      <td>NaN</td>\n",
       "      <td>0</td>\n",
       "      <td></td>\n",
       "      <td>0</td>\n",
       "      <td>0</td>\n",
       "      <td></td>\n",
       "      <td>NaN</td>\n",
       "      <td>0</td>\n",
       "      <td>NaN</td>\n",
       "      <td>NaN</td>\n",
       "      <td>NaN</td>\n",
       "    </tr>\n",
       "    <tr>\n",
       "      <th>97</th>\n",
       "      <td>0</td>\n",
       "      <td>0</td>\n",
       "      <td>0</td>\n",
       "      <td>0.00</td>\n",
       "      <td>0</td>\n",
       "      <td>0</td>\n",
       "      <td>0</td>\n",
       "      <td>NaN</td>\n",
       "      <td>NaN</td>\n",
       "      <td>0</td>\n",
       "      <td></td>\n",
       "      <td>0</td>\n",
       "      <td>0</td>\n",
       "      <td></td>\n",
       "      <td>NaN</td>\n",
       "      <td>0</td>\n",
       "      <td>NaN</td>\n",
       "      <td>NaN</td>\n",
       "      <td>NaN</td>\n",
       "    </tr>\n",
       "    <tr>\n",
       "      <th>98</th>\n",
       "      <td>0</td>\n",
       "      <td>0</td>\n",
       "      <td>0</td>\n",
       "      <td>0.00</td>\n",
       "      <td>0</td>\n",
       "      <td>0</td>\n",
       "      <td>0</td>\n",
       "      <td>NaN</td>\n",
       "      <td>NaN</td>\n",
       "      <td>0</td>\n",
       "      <td></td>\n",
       "      <td>0</td>\n",
       "      <td>0</td>\n",
       "      <td></td>\n",
       "      <td>NaN</td>\n",
       "      <td>0</td>\n",
       "      <td>NaN</td>\n",
       "      <td>NaN</td>\n",
       "      <td>NaN</td>\n",
       "    </tr>\n",
       "    <tr>\n",
       "      <th>99</th>\n",
       "      <td>99</td>\n",
       "      <td>1</td>\n",
       "      <td>9435</td>\n",
       "      <td>80.42</td>\n",
       "      <td>19109696</td>\n",
       "      <td>DHOBE ROHIT DEEPAK</td>\n",
       "      <td>M</td>\n",
       "      <td>OBC</td>\n",
       "      <td>NaN</td>\n",
       "      <td>101</td>\n",
       "      <td>GST</td>\n",
       "      <td>101</td>\n",
       "      <td>2020</td>\n",
       "      <td>#</td>\n",
       "      <td>2.0</td>\n",
       "      <td>2</td>\n",
       "      <td>Chemical</td>\n",
       "      <td>Chemical</td>\n",
       "      <td>Shri Guru Gobind Singhji Institute of Engineer...</td>\n",
       "    </tr>\n",
       "  </tbody>\n",
       "</table>\n",
       "<p>100 rows × 19 columns</p>\n",
       "</div>"
      ],
      "text/plain": [
       "    Unnamed: 0.1.1  Sr.No.  Merit No  Marks  Application ID  \\\n",
       "0                0       1        60  95.13        19106856   \n",
       "1                1       2       213  93.38        19126045   \n",
       "2                2       3       384  92.47        19105661   \n",
       "3                3       4       420  92.31        19103256   \n",
       "4                4       5       846  90.79        19148502   \n",
       "..             ...     ...       ...    ...             ...   \n",
       "95               0       0         0   0.00               0   \n",
       "96               0       0         0   0.00               0   \n",
       "97               0       0         0   0.00               0   \n",
       "98               0       0         0   0.00               0   \n",
       "99              99       1      9435  80.42        19109696   \n",
       "\n",
       "             Name of Candidate Gender Category PWD/DEF  Sub Group Seat Type  \\\n",
       "0   PAWAR SIDDHI RAVINDRASINGH      F     OPEN     NaN        201     LOPEN   \n",
       "1    MAHALLE SHRADDHA MOHANRAO      F      OBC     NaN        201     GOPEN   \n",
       "2         TUSHAR RAJESH LAHANE      M      OBC     NaN        201      GOBC   \n",
       "3          RAUT PALASH SUBHASH      M      OBC     NaN        201      GOBC   \n",
       "4    BIRAJDAR SAURABH DAYANAND      M     SEBC     NaN        201     GSEBC   \n",
       "..                         ...    ...      ...     ...        ...       ...   \n",
       "95                           0      0      NaN     NaN          0             \n",
       "96                           0      0      NaN     NaN          0             \n",
       "97                           0      0      NaN     NaN          0             \n",
       "98                           0      0      NaN     NaN          0             \n",
       "99          DHOBE ROHIT DEEPAK      M      OBC     NaN        101       GST   \n",
       "\n",
       "    cource_code  college_code Seat conformation  Seat conformation id  \\\n",
       "0           201          1002                 ^                   1.0   \n",
       "1           201          1002                 ^                   1.0   \n",
       "2           201          1002                 ^                   1.0   \n",
       "3           201          1002                 ^                   1.0   \n",
       "4           201          1002                 ^                   1.0   \n",
       "..          ...           ...               ...                   ...   \n",
       "95            0             0                                     NaN   \n",
       "96            0             0                                     NaN   \n",
       "97            0             0                                     NaN   \n",
       "98            0             0                                     NaN   \n",
       "99          101          2020                 #                   2.0   \n",
       "\n",
       "    Category id sub group name cource code name  \\\n",
       "0             1          Civil            Civil   \n",
       "1             2          Civil            Civil   \n",
       "2             2          Civil            Civil   \n",
       "3             2          Civil            Civil   \n",
       "4             3          Civil            Civil   \n",
       "..          ...            ...              ...   \n",
       "95            0            NaN              NaN   \n",
       "96            0            NaN              NaN   \n",
       "97            0            NaN              NaN   \n",
       "98            0            NaN              NaN   \n",
       "99            2       Chemical         Chemical   \n",
       "\n",
       "                                       Institute Name  \n",
       "0         Government College of Engineering, Amravati  \n",
       "1         Government College of Engineering, Amravati  \n",
       "2         Government College of Engineering, Amravati  \n",
       "3         Government College of Engineering, Amravati  \n",
       "4         Government College of Engineering, Amravati  \n",
       "..                                                ...  \n",
       "95                                                NaN  \n",
       "96                                                NaN  \n",
       "97                                                NaN  \n",
       "98                                                NaN  \n",
       "99  Shri Guru Gobind Singhji Institute of Engineer...  \n",
       "\n",
       "[100 rows x 19 columns]"
      ]
     },
     "execution_count": 123,
     "metadata": {},
     "output_type": "execute_result"
    }
   ],
   "source": [
    "dataframe.head(100)"
   ]
  },
  {
   "cell_type": "markdown",
   "metadata": {},
   "source": [
    "###  College city"
   ]
  },
  {
   "cell_type": "code",
   "execution_count": 124,
   "metadata": {},
   "outputs": [
    {
     "data": {
      "text/html": [
       "<div>\n",
       "<style scoped>\n",
       "    .dataframe tbody tr th:only-of-type {\n",
       "        vertical-align: middle;\n",
       "    }\n",
       "\n",
       "    .dataframe tbody tr th {\n",
       "        vertical-align: top;\n",
       "    }\n",
       "\n",
       "    .dataframe thead th {\n",
       "        text-align: right;\n",
       "    }\n",
       "</style>\n",
       "<table border=\"1\" class=\"dataframe\">\n",
       "  <thead>\n",
       "    <tr style=\"text-align: right;\">\n",
       "      <th></th>\n",
       "      <th>Institute dict</th>\n",
       "    </tr>\n",
       "    <tr>\n",
       "      <th>Institute Code</th>\n",
       "      <th></th>\n",
       "    </tr>\n",
       "  </thead>\n",
       "  <tbody>\n",
       "    <tr>\n",
       "      <th>1002</th>\n",
       "      <td>Amravati</td>\n",
       "    </tr>\n",
       "    <tr>\n",
       "      <th>1005</th>\n",
       "      <td>Amravati</td>\n",
       "    </tr>\n",
       "    <tr>\n",
       "      <th>1012</th>\n",
       "      <td>Yavatmal</td>\n",
       "    </tr>\n",
       "    <tr>\n",
       "      <th>1101</th>\n",
       "      <td>Buldhana</td>\n",
       "    </tr>\n",
       "    <tr>\n",
       "      <th>1105</th>\n",
       "      <td>Amravati</td>\n",
       "    </tr>\n",
       "  </tbody>\n",
       "</table>\n",
       "</div>"
      ],
      "text/plain": [
       "               Institute dict\n",
       "Institute Code               \n",
       "1002                 Amravati\n",
       "1005                 Amravati\n",
       "1012                 Yavatmal\n",
       "1101                 Buldhana\n",
       "1105                 Amravati"
      ]
     },
     "execution_count": 124,
     "metadata": {},
     "output_type": "execute_result"
    }
   ],
   "source": [
    "city=pd.read_csv(\"../../data/raw/college town.csv\",index_col=[\"Institute Code\"])\n",
    "city.drop([\"Unnamed: 0\"],axis=1,inplace=True)\n",
    "city.head()"
   ]
  },
  {
   "cell_type": "code",
   "execution_count": 125,
   "metadata": {},
   "outputs": [],
   "source": [
    "dataframe[\"Institute dict\"]=np.nan\n",
    "city=city.to_dict()\n",
    "city=city[\"Institute dict\"]\n",
    "dataframe[\"Institute dict\"]=dataframe[\"college_code\"].map(city)"
   ]
  },
  {
   "cell_type": "code",
   "execution_count": 126,
   "metadata": {},
   "outputs": [
    {
     "data": {
      "text/html": [
       "<div>\n",
       "<style scoped>\n",
       "    .dataframe tbody tr th:only-of-type {\n",
       "        vertical-align: middle;\n",
       "    }\n",
       "\n",
       "    .dataframe tbody tr th {\n",
       "        vertical-align: top;\n",
       "    }\n",
       "\n",
       "    .dataframe thead th {\n",
       "        text-align: right;\n",
       "    }\n",
       "</style>\n",
       "<table border=\"1\" class=\"dataframe\">\n",
       "  <thead>\n",
       "    <tr style=\"text-align: right;\">\n",
       "      <th></th>\n",
       "      <th>Unnamed: 0.1.1</th>\n",
       "      <th>Sr.No.</th>\n",
       "      <th>Merit No</th>\n",
       "      <th>Marks</th>\n",
       "      <th>Application ID</th>\n",
       "      <th>Name of Candidate</th>\n",
       "      <th>Gender</th>\n",
       "      <th>Category</th>\n",
       "      <th>PWD/DEF</th>\n",
       "      <th>Sub Group</th>\n",
       "      <th>Seat Type</th>\n",
       "      <th>cource_code</th>\n",
       "      <th>college_code</th>\n",
       "      <th>Seat conformation</th>\n",
       "      <th>Seat conformation id</th>\n",
       "      <th>Category id</th>\n",
       "      <th>sub group name</th>\n",
       "      <th>cource code name</th>\n",
       "      <th>Institute Name</th>\n",
       "      <th>Institute dict</th>\n",
       "    </tr>\n",
       "  </thead>\n",
       "  <tbody>\n",
       "    <tr>\n",
       "      <th>0</th>\n",
       "      <td>0</td>\n",
       "      <td>1</td>\n",
       "      <td>60</td>\n",
       "      <td>95.13</td>\n",
       "      <td>19106856</td>\n",
       "      <td>PAWAR SIDDHI RAVINDRASINGH</td>\n",
       "      <td>F</td>\n",
       "      <td>OPEN</td>\n",
       "      <td>NaN</td>\n",
       "      <td>201</td>\n",
       "      <td>LOPEN</td>\n",
       "      <td>201</td>\n",
       "      <td>1002</td>\n",
       "      <td>^</td>\n",
       "      <td>1.0</td>\n",
       "      <td>1</td>\n",
       "      <td>Civil</td>\n",
       "      <td>Civil</td>\n",
       "      <td>Government College of Engineering, Amravati</td>\n",
       "      <td>Amravati</td>\n",
       "    </tr>\n",
       "    <tr>\n",
       "      <th>1</th>\n",
       "      <td>1</td>\n",
       "      <td>2</td>\n",
       "      <td>213</td>\n",
       "      <td>93.38</td>\n",
       "      <td>19126045</td>\n",
       "      <td>MAHALLE SHRADDHA MOHANRAO</td>\n",
       "      <td>F</td>\n",
       "      <td>OBC</td>\n",
       "      <td>NaN</td>\n",
       "      <td>201</td>\n",
       "      <td>GOPEN</td>\n",
       "      <td>201</td>\n",
       "      <td>1002</td>\n",
       "      <td>^</td>\n",
       "      <td>1.0</td>\n",
       "      <td>2</td>\n",
       "      <td>Civil</td>\n",
       "      <td>Civil</td>\n",
       "      <td>Government College of Engineering, Amravati</td>\n",
       "      <td>Amravati</td>\n",
       "    </tr>\n",
       "    <tr>\n",
       "      <th>2</th>\n",
       "      <td>2</td>\n",
       "      <td>3</td>\n",
       "      <td>384</td>\n",
       "      <td>92.47</td>\n",
       "      <td>19105661</td>\n",
       "      <td>TUSHAR RAJESH LAHANE</td>\n",
       "      <td>M</td>\n",
       "      <td>OBC</td>\n",
       "      <td>NaN</td>\n",
       "      <td>201</td>\n",
       "      <td>GOBC</td>\n",
       "      <td>201</td>\n",
       "      <td>1002</td>\n",
       "      <td>^</td>\n",
       "      <td>1.0</td>\n",
       "      <td>2</td>\n",
       "      <td>Civil</td>\n",
       "      <td>Civil</td>\n",
       "      <td>Government College of Engineering, Amravati</td>\n",
       "      <td>Amravati</td>\n",
       "    </tr>\n",
       "    <tr>\n",
       "      <th>3</th>\n",
       "      <td>3</td>\n",
       "      <td>4</td>\n",
       "      <td>420</td>\n",
       "      <td>92.31</td>\n",
       "      <td>19103256</td>\n",
       "      <td>RAUT PALASH SUBHASH</td>\n",
       "      <td>M</td>\n",
       "      <td>OBC</td>\n",
       "      <td>NaN</td>\n",
       "      <td>201</td>\n",
       "      <td>GOBC</td>\n",
       "      <td>201</td>\n",
       "      <td>1002</td>\n",
       "      <td>^</td>\n",
       "      <td>1.0</td>\n",
       "      <td>2</td>\n",
       "      <td>Civil</td>\n",
       "      <td>Civil</td>\n",
       "      <td>Government College of Engineering, Amravati</td>\n",
       "      <td>Amravati</td>\n",
       "    </tr>\n",
       "  </tbody>\n",
       "</table>\n",
       "</div>"
      ],
      "text/plain": [
       "   Unnamed: 0.1.1  Sr.No.  Merit No  Marks  Application ID  \\\n",
       "0               0       1        60  95.13        19106856   \n",
       "1               1       2       213  93.38        19126045   \n",
       "2               2       3       384  92.47        19105661   \n",
       "3               3       4       420  92.31        19103256   \n",
       "\n",
       "            Name of Candidate Gender Category PWD/DEF  Sub Group Seat Type  \\\n",
       "0  PAWAR SIDDHI RAVINDRASINGH      F     OPEN     NaN        201     LOPEN   \n",
       "1   MAHALLE SHRADDHA MOHANRAO      F      OBC     NaN        201     GOPEN   \n",
       "2        TUSHAR RAJESH LAHANE      M      OBC     NaN        201      GOBC   \n",
       "3         RAUT PALASH SUBHASH      M      OBC     NaN        201      GOBC   \n",
       "\n",
       "   cource_code  college_code Seat conformation  Seat conformation id  \\\n",
       "0          201          1002                 ^                   1.0   \n",
       "1          201          1002                 ^                   1.0   \n",
       "2          201          1002                 ^                   1.0   \n",
       "3          201          1002                 ^                   1.0   \n",
       "\n",
       "   Category id sub group name cource code name  \\\n",
       "0            1          Civil            Civil   \n",
       "1            2          Civil            Civil   \n",
       "2            2          Civil            Civil   \n",
       "3            2          Civil            Civil   \n",
       "\n",
       "                                Institute Name Institute dict  \n",
       "0  Government College of Engineering, Amravati       Amravati  \n",
       "1  Government College of Engineering, Amravati       Amravati  \n",
       "2  Government College of Engineering, Amravati       Amravati  \n",
       "3  Government College of Engineering, Amravati       Amravati  "
      ]
     },
     "execution_count": 126,
     "metadata": {},
     "output_type": "execute_result"
    }
   ],
   "source": [
    "dataframe.head(4)"
   ]
  },
  {
   "cell_type": "code",
   "execution_count": 127,
   "metadata": {},
   "outputs": [],
   "source": [
    "dataframe=dataframe[[\"Merit No\",\"Marks\",\"Application ID\",\"Name of Candidate\",\"Gender\",\"Category\",\"Category id\",\"Seat Type\",\"PWD/DEF\",\"Sub Group\",\"sub group name\",\"cource_code\",\"cource code name\",\"college_code\",\"Institute dict\",\"Institute Name\",\"Seat conformation\",\"Seat conformation id\"]]"
   ]
  },
  {
   "cell_type": "code",
   "execution_count": 128,
   "metadata": {},
   "outputs": [
    {
     "data": {
      "text/html": [
       "<div>\n",
       "<style scoped>\n",
       "    .dataframe tbody tr th:only-of-type {\n",
       "        vertical-align: middle;\n",
       "    }\n",
       "\n",
       "    .dataframe tbody tr th {\n",
       "        vertical-align: top;\n",
       "    }\n",
       "\n",
       "    .dataframe thead th {\n",
       "        text-align: right;\n",
       "    }\n",
       "</style>\n",
       "<table border=\"1\" class=\"dataframe\">\n",
       "  <thead>\n",
       "    <tr style=\"text-align: right;\">\n",
       "      <th></th>\n",
       "      <th>Merit No</th>\n",
       "      <th>Marks</th>\n",
       "      <th>Application ID</th>\n",
       "      <th>Name of Candidate</th>\n",
       "      <th>Gender</th>\n",
       "      <th>Category</th>\n",
       "      <th>Category id</th>\n",
       "      <th>Seat Type</th>\n",
       "      <th>PWD/DEF</th>\n",
       "      <th>Sub Group</th>\n",
       "      <th>sub group name</th>\n",
       "      <th>cource_code</th>\n",
       "      <th>cource code name</th>\n",
       "      <th>college_code</th>\n",
       "      <th>Institute dict</th>\n",
       "      <th>Institute Name</th>\n",
       "      <th>Seat conformation</th>\n",
       "      <th>Seat conformation id</th>\n",
       "    </tr>\n",
       "  </thead>\n",
       "  <tbody>\n",
       "    <tr>\n",
       "      <th>0</th>\n",
       "      <td>60</td>\n",
       "      <td>95.13</td>\n",
       "      <td>19106856</td>\n",
       "      <td>PAWAR SIDDHI RAVINDRASINGH</td>\n",
       "      <td>F</td>\n",
       "      <td>OPEN</td>\n",
       "      <td>1</td>\n",
       "      <td>LOPEN</td>\n",
       "      <td>NaN</td>\n",
       "      <td>201</td>\n",
       "      <td>Civil</td>\n",
       "      <td>201</td>\n",
       "      <td>Civil</td>\n",
       "      <td>1002</td>\n",
       "      <td>Amravati</td>\n",
       "      <td>Government College of Engineering, Amravati</td>\n",
       "      <td>^</td>\n",
       "      <td>1.0</td>\n",
       "    </tr>\n",
       "    <tr>\n",
       "      <th>1</th>\n",
       "      <td>213</td>\n",
       "      <td>93.38</td>\n",
       "      <td>19126045</td>\n",
       "      <td>MAHALLE SHRADDHA MOHANRAO</td>\n",
       "      <td>F</td>\n",
       "      <td>OBC</td>\n",
       "      <td>2</td>\n",
       "      <td>GOPEN</td>\n",
       "      <td>NaN</td>\n",
       "      <td>201</td>\n",
       "      <td>Civil</td>\n",
       "      <td>201</td>\n",
       "      <td>Civil</td>\n",
       "      <td>1002</td>\n",
       "      <td>Amravati</td>\n",
       "      <td>Government College of Engineering, Amravati</td>\n",
       "      <td>^</td>\n",
       "      <td>1.0</td>\n",
       "    </tr>\n",
       "    <tr>\n",
       "      <th>2</th>\n",
       "      <td>384</td>\n",
       "      <td>92.47</td>\n",
       "      <td>19105661</td>\n",
       "      <td>TUSHAR RAJESH LAHANE</td>\n",
       "      <td>M</td>\n",
       "      <td>OBC</td>\n",
       "      <td>2</td>\n",
       "      <td>GOBC</td>\n",
       "      <td>NaN</td>\n",
       "      <td>201</td>\n",
       "      <td>Civil</td>\n",
       "      <td>201</td>\n",
       "      <td>Civil</td>\n",
       "      <td>1002</td>\n",
       "      <td>Amravati</td>\n",
       "      <td>Government College of Engineering, Amravati</td>\n",
       "      <td>^</td>\n",
       "      <td>1.0</td>\n",
       "    </tr>\n",
       "    <tr>\n",
       "      <th>3</th>\n",
       "      <td>420</td>\n",
       "      <td>92.31</td>\n",
       "      <td>19103256</td>\n",
       "      <td>RAUT PALASH SUBHASH</td>\n",
       "      <td>M</td>\n",
       "      <td>OBC</td>\n",
       "      <td>2</td>\n",
       "      <td>GOBC</td>\n",
       "      <td>NaN</td>\n",
       "      <td>201</td>\n",
       "      <td>Civil</td>\n",
       "      <td>201</td>\n",
       "      <td>Civil</td>\n",
       "      <td>1002</td>\n",
       "      <td>Amravati</td>\n",
       "      <td>Government College of Engineering, Amravati</td>\n",
       "      <td>^</td>\n",
       "      <td>1.0</td>\n",
       "    </tr>\n",
       "    <tr>\n",
       "      <th>4</th>\n",
       "      <td>846</td>\n",
       "      <td>90.79</td>\n",
       "      <td>19148502</td>\n",
       "      <td>BIRAJDAR SAURABH DAYANAND</td>\n",
       "      <td>M</td>\n",
       "      <td>SEBC</td>\n",
       "      <td>3</td>\n",
       "      <td>GSEBC</td>\n",
       "      <td>NaN</td>\n",
       "      <td>201</td>\n",
       "      <td>Civil</td>\n",
       "      <td>201</td>\n",
       "      <td>Civil</td>\n",
       "      <td>1002</td>\n",
       "      <td>Amravati</td>\n",
       "      <td>Government College of Engineering, Amravati</td>\n",
       "      <td>^</td>\n",
       "      <td>1.0</td>\n",
       "    </tr>\n",
       "  </tbody>\n",
       "</table>\n",
       "</div>"
      ],
      "text/plain": [
       "   Merit No  Marks  Application ID           Name of Candidate Gender  \\\n",
       "0        60  95.13        19106856  PAWAR SIDDHI RAVINDRASINGH      F   \n",
       "1       213  93.38        19126045   MAHALLE SHRADDHA MOHANRAO      F   \n",
       "2       384  92.47        19105661        TUSHAR RAJESH LAHANE      M   \n",
       "3       420  92.31        19103256         RAUT PALASH SUBHASH      M   \n",
       "4       846  90.79        19148502   BIRAJDAR SAURABH DAYANAND      M   \n",
       "\n",
       "  Category  Category id Seat Type PWD/DEF  Sub Group sub group name  \\\n",
       "0     OPEN            1     LOPEN     NaN        201          Civil   \n",
       "1      OBC            2     GOPEN     NaN        201          Civil   \n",
       "2      OBC            2      GOBC     NaN        201          Civil   \n",
       "3      OBC            2      GOBC     NaN        201          Civil   \n",
       "4     SEBC            3     GSEBC     NaN        201          Civil   \n",
       "\n",
       "   cource_code cource code name  college_code Institute dict  \\\n",
       "0          201            Civil          1002       Amravati   \n",
       "1          201            Civil          1002       Amravati   \n",
       "2          201            Civil          1002       Amravati   \n",
       "3          201            Civil          1002       Amravati   \n",
       "4          201            Civil          1002       Amravati   \n",
       "\n",
       "                                Institute Name Seat conformation  \\\n",
       "0  Government College of Engineering, Amravati                 ^   \n",
       "1  Government College of Engineering, Amravati                 ^   \n",
       "2  Government College of Engineering, Amravati                 ^   \n",
       "3  Government College of Engineering, Amravati                 ^   \n",
       "4  Government College of Engineering, Amravati                 ^   \n",
       "\n",
       "   Seat conformation id  \n",
       "0                   1.0  \n",
       "1                   1.0  \n",
       "2                   1.0  \n",
       "3                   1.0  \n",
       "4                   1.0  "
      ]
     },
     "execution_count": 128,
     "metadata": {},
     "output_type": "execute_result"
    }
   ],
   "source": [
    "dataframe.head()"
   ]
  },
  {
   "cell_type": "code",
   "execution_count": 129,
   "metadata": {},
   "outputs": [
    {
     "name": "stdout",
     "output_type": "stream",
     "text": [
      "<class 'pandas.core.frame.DataFrame'>\n",
      "RangeIndex: 73580 entries, 0 to 73579\n",
      "Data columns (total 18 columns):\n",
      " #   Column                Non-Null Count  Dtype  \n",
      "---  ------                --------------  -----  \n",
      " 0   Merit No              73580 non-null  int64  \n",
      " 1   Marks                 73580 non-null  float64\n",
      " 2   Application ID        73580 non-null  int64  \n",
      " 3   Name of Candidate     73580 non-null  object \n",
      " 4   Gender                73580 non-null  object \n",
      " 5   Category              47711 non-null  object \n",
      " 6   Category id           73580 non-null  int64  \n",
      " 7   Seat Type             73580 non-null  object \n",
      " 8   PWD/DEF               96 non-null     object \n",
      " 9   Sub Group             73580 non-null  int64  \n",
      " 10  sub group name        47485 non-null  object \n",
      " 11  cource_code           73580 non-null  int64  \n",
      " 12  cource code name      47691 non-null  object \n",
      " 13  college_code          73580 non-null  int64  \n",
      " 14  Institute dict        47711 non-null  object \n",
      " 15  Institute Name        47711 non-null  object \n",
      " 16  Seat conformation     73580 non-null  object \n",
      " 17  Seat conformation id  46538 non-null  float64\n",
      "dtypes: float64(2), int64(6), object(10)\n",
      "memory usage: 10.1+ MB\n"
     ]
    }
   ],
   "source": [
    "dataframe.info()"
   ]
  },
  {
   "cell_type": "code",
   "execution_count": 130,
   "metadata": {},
   "outputs": [],
   "source": [
    "dataframe.to_csv(\"../../data/processed/cap-3.csv\")"
   ]
  },
  {
   "cell_type": "code",
   "execution_count": null,
   "metadata": {},
   "outputs": [],
   "source": []
  },
  {
   "cell_type": "code",
   "execution_count": null,
   "metadata": {},
   "outputs": [],
   "source": []
  },
  {
   "cell_type": "code",
   "execution_count": null,
   "metadata": {},
   "outputs": [],
   "source": []
  },
  {
   "cell_type": "code",
   "execution_count": null,
   "metadata": {},
   "outputs": [],
   "source": []
  },
  {
   "cell_type": "code",
   "execution_count": null,
   "metadata": {},
   "outputs": [],
   "source": []
  },
  {
   "cell_type": "code",
   "execution_count": null,
   "metadata": {},
   "outputs": [],
   "source": []
  }
 ],
 "metadata": {
  "kernelspec": {
   "display_name": "Python 3",
   "language": "python",
   "name": "python3"
  },
  "language_info": {
   "codemirror_mode": {
    "name": "ipython",
    "version": 3
   },
   "file_extension": ".py",
   "mimetype": "text/x-python",
   "name": "python",
   "nbconvert_exporter": "python",
   "pygments_lexer": "ipython3",
   "version": "3.7.6"
  }
 },
 "nbformat": 4,
 "nbformat_minor": 4
}
