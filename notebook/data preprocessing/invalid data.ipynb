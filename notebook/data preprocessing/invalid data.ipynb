{
 "cells": [
  {
   "cell_type": "markdown",
   "metadata": {},
   "source": [
    "# Data Cleaning"
   ]
  },
  {
   "cell_type": "code",
   "execution_count": 1,
   "metadata": {},
   "outputs": [],
   "source": [
    "import pandas as pd\n",
    "import numpy as np"
   ]
  },
  {
   "cell_type": "markdown",
   "metadata": {},
   "source": [
    "In data minig it is found that some rows have shifted to left there are less number off rows with are shifted so just drop it"
   ]
  },
  {
   "cell_type": "code",
   "execution_count": 2,
   "metadata": {},
   "outputs": [
    {
     "data": {
      "text/html": [
       "<div>\n",
       "<style scoped>\n",
       "    .dataframe tbody tr th:only-of-type {\n",
       "        vertical-align: middle;\n",
       "    }\n",
       "\n",
       "    .dataframe tbody tr th {\n",
       "        vertical-align: top;\n",
       "    }\n",
       "\n",
       "    .dataframe thead th {\n",
       "        text-align: right;\n",
       "    }\n",
       "</style>\n",
       "<table border=\"1\" class=\"dataframe\">\n",
       "  <thead>\n",
       "    <tr style=\"text-align: right;\">\n",
       "      <th></th>\n",
       "      <th>Unnamed: 0</th>\n",
       "      <th>Sr.No.</th>\n",
       "      <th>Merit No</th>\n",
       "      <th>Marks</th>\n",
       "      <th>Application ID</th>\n",
       "      <th>Name of Candidate</th>\n",
       "      <th>Gender</th>\n",
       "      <th>Category</th>\n",
       "      <th>PWD/DEF</th>\n",
       "      <th>Sub Group</th>\n",
       "      <th>Seat Type</th>\n",
       "      <th>cource_code</th>\n",
       "      <th>college_code</th>\n",
       "    </tr>\n",
       "  </thead>\n",
       "  <tbody>\n",
       "    <tr>\n",
       "      <th>0</th>\n",
       "      <td>0</td>\n",
       "      <td>1</td>\n",
       "      <td>60</td>\n",
       "      <td>95.13%</td>\n",
       "      <td>DSE19106856</td>\n",
       "      <td>PAWAR SIDDHI RAVINDRASINGH</td>\n",
       "      <td>F</td>\n",
       "      <td>OPEN</td>\n",
       "      <td>NaN</td>\n",
       "      <td>201</td>\n",
       "      <td>LOPEN</td>\n",
       "      <td>201</td>\n",
       "      <td>1002</td>\n",
       "    </tr>\n",
       "    <tr>\n",
       "      <th>1</th>\n",
       "      <td>1</td>\n",
       "      <td>2</td>\n",
       "      <td>213</td>\n",
       "      <td>93.38%</td>\n",
       "      <td>DSE19126045</td>\n",
       "      <td>MAHALLE SHRADDHA MOHANRAO</td>\n",
       "      <td>F</td>\n",
       "      <td>OBC</td>\n",
       "      <td>NaN</td>\n",
       "      <td>201</td>\n",
       "      <td>GOPEN</td>\n",
       "      <td>201</td>\n",
       "      <td>1002</td>\n",
       "    </tr>\n",
       "    <tr>\n",
       "      <th>2</th>\n",
       "      <td>2</td>\n",
       "      <td>3</td>\n",
       "      <td>384</td>\n",
       "      <td>92.47%</td>\n",
       "      <td>DSE19105661</td>\n",
       "      <td>TUSHAR RAJESH LAHANE</td>\n",
       "      <td>M</td>\n",
       "      <td>OBC</td>\n",
       "      <td>NaN</td>\n",
       "      <td>201</td>\n",
       "      <td>GOBC</td>\n",
       "      <td>201</td>\n",
       "      <td>1002</td>\n",
       "    </tr>\n",
       "    <tr>\n",
       "      <th>3</th>\n",
       "      <td>3</td>\n",
       "      <td>4</td>\n",
       "      <td>420</td>\n",
       "      <td>92.31%</td>\n",
       "      <td>DSE19103256</td>\n",
       "      <td>RAUT PALASH SUBHASH</td>\n",
       "      <td>M</td>\n",
       "      <td>OBC</td>\n",
       "      <td>NaN</td>\n",
       "      <td>201</td>\n",
       "      <td>GOBC</td>\n",
       "      <td>201</td>\n",
       "      <td>1002</td>\n",
       "    </tr>\n",
       "    <tr>\n",
       "      <th>4</th>\n",
       "      <td>4</td>\n",
       "      <td>5</td>\n",
       "      <td>465</td>\n",
       "      <td>92.12%</td>\n",
       "      <td>DSE19147230</td>\n",
       "      <td>INGLE DHANASHRI VIJAYSINH</td>\n",
       "      <td>F</td>\n",
       "      <td>SEBC</td>\n",
       "      <td>NaN</td>\n",
       "      <td>201</td>\n",
       "      <td>GSEBC</td>\n",
       "      <td>201</td>\n",
       "      <td>1002</td>\n",
       "    </tr>\n",
       "  </tbody>\n",
       "</table>\n",
       "</div>"
      ],
      "text/plain": [
       "   Unnamed: 0 Sr.No. Merit No   Marks Application ID  \\\n",
       "0           0      1       60  95.13%    DSE19106856   \n",
       "1           1      2      213  93.38%    DSE19126045   \n",
       "2           2      3      384  92.47%    DSE19105661   \n",
       "3           3      4      420  92.31%    DSE19103256   \n",
       "4           4      5      465  92.12%    DSE19147230   \n",
       "\n",
       "            Name of Candidate Gender Category PWD/DEF Sub Group Seat Type  \\\n",
       "0  PAWAR SIDDHI RAVINDRASINGH      F     OPEN     NaN       201     LOPEN   \n",
       "1   MAHALLE SHRADDHA MOHANRAO      F      OBC     NaN       201     GOPEN   \n",
       "2        TUSHAR RAJESH LAHANE      M      OBC     NaN       201      GOBC   \n",
       "3         RAUT PALASH SUBHASH      M      OBC     NaN       201      GOBC   \n",
       "4   INGLE DHANASHRI VIJAYSINH      F     SEBC     NaN       201     GSEBC   \n",
       "\n",
       "   cource_code  college_code  \n",
       "0          201          1002  \n",
       "1          201          1002  \n",
       "2          201          1002  \n",
       "3          201          1002  \n",
       "4          201          1002  "
      ]
     },
     "execution_count": 2,
     "metadata": {},
     "output_type": "execute_result"
    }
   ],
   "source": [
    "dataframe=pd.read_csv(\"../../data/raw/cap-1 student info.csv\")\n",
    "dataframe.head()"
   ]
  },
  {
   "cell_type": "code",
   "execution_count": 3,
   "metadata": {},
   "outputs": [
    {
     "name": "stdout",
     "output_type": "stream",
     "text": [
      "<class 'pandas.core.frame.DataFrame'>\n",
      "RangeIndex: 75159 entries, 0 to 75158\n",
      "Data columns (total 13 columns):\n",
      " #   Column             Non-Null Count  Dtype \n",
      "---  ------             --------------  ----- \n",
      " 0   Unnamed: 0         75159 non-null  int64 \n",
      " 1   Sr.No.             75117 non-null  object\n",
      " 2   Merit No           75117 non-null  object\n",
      " 3   Marks              75117 non-null  object\n",
      " 4   Application ID     75117 non-null  object\n",
      " 5   Name of Candidate  75117 non-null  object\n",
      " 6   Gender             75117 non-null  object\n",
      " 7   Category           73999 non-null  object\n",
      " 8   PWD/DEF            1868 non-null   object\n",
      " 9   Sub Group          75117 non-null  object\n",
      " 10  Seat Type          73999 non-null  object\n",
      " 11  cource_code        75159 non-null  int64 \n",
      " 12  college_code       75159 non-null  int64 \n",
      "dtypes: int64(3), object(10)\n",
      "memory usage: 7.5+ MB\n"
     ]
    }
   ],
   "source": [
    "dataframe.info()"
   ]
  },
  {
   "cell_type": "code",
   "execution_count": 4,
   "metadata": {},
   "outputs": [
    {
     "data": {
      "text/plain": [
       "array(['1', '2', '3', '4', '5', '6', '7', '8', '9', '10', '11', '12',\n",
       "       '13', '14', '15', '16', '17', '18', '19', '20', '21', '22', '23',\n",
       "       '24', '25', '26', '27', '28', '29', '30', '31', '32', '33', '34',\n",
       "       '35', '36', '37', '38', '39', '40', '41', '42', '43', '44', '45',\n",
       "       '46', '47', '48', '49', '50', '51', '52', '53', '54', '55', '56',\n",
       "       '57', '58', '59', '60', '61', '62', '63', '64', '65', '66', '67',\n",
       "       '68', '69', '71', '72', '73', '74', '75', '76', '77', '78', '79',\n",
       "       '80', '81', '82', '83', '84', '85', '86', '87', '88', '89', '90',\n",
       "       '91', '92', '93', '94', '95', '96', '97', '98', '99', '100', '101',\n",
       "       '102', '103', '104', '105', '106', '107', '108', '109', '110',\n",
       "       '111', '113', '114', '115', '116', '117', '118', '119', '120',\n",
       "       '121', '122', '123', '124', '125', '70', '46539', '-', nan, '126',\n",
       "       '127', '128', '129', '130', '131', '132', '133', '134', '1.0',\n",
       "       '2.0', '3.0', '4.0', '5.0', '6.0', '7.0', '8.0', '9.0', '10.0',\n",
       "       '11.0', '12.0', '13.0', '14.0', '15.0', '16.0', '17.0', '18.0',\n",
       "       '19.0', '20.0', '21.0', '22.0', '23.0', '24.0', '25.0', '26.0',\n",
       "       '27.0', '29.0', '30.0', '31.0', '32.0', '33.0', '34.0', '35.0',\n",
       "       '36.0', '37.0', '38.0', '39.0', '40.0', '41.0', '42.0', '43.0',\n",
       "       '44.0', '45.0', '46.0', '47.0', '48.0', '49.0', '50.0', '51.0',\n",
       "       '52.0', '53.0', '54.0', '55.0', '56.0', '57.0', '58.0', '59.0',\n",
       "       '60.0', '61.0', '3515.0', '3953.0', '4224.0', '5357.0', '6067.0',\n",
       "       '6582.0', '6643.0', '7540.0', '7594.0', '8225.0', '8636.0',\n",
       "       '10558.0', '28.0', '8286', '11461', '22704', '45053', '53591',\n",
       "       '24816', '44680', '45620', '52483', '135', '39233', '47755',\n",
       "       '24904', '27431', '33788', '112', '26923', '24478', '4374',\n",
       "       '13223', '13545', '14415', '14657', '16081', '16401', '17042',\n",
       "       '23430', '30785', '36462', '39421', '40771', '41739', '43076',\n",
       "       '43735', '45042', '47059', '7912', '21698', '47390', '51634',\n",
       "       '52954', '53648', '54148', '136', '137', '138', '139', '140',\n",
       "       '141', '142', '143', '144', '145', '146', '147', '148', '149',\n",
       "       '150', '151', '152', '153', '154', '155', '156', '157', '158',\n",
       "       '159', '161', '162', '163', '164', '165', '166', '167', '168',\n",
       "       '169', '170', '171', '172', '173', '174', '175', '176', '177',\n",
       "       '178', '179', '180', '181', '182', '183', '184', '185', '186',\n",
       "       '187', '188', '189', '190', '191', '192', '193', '194', '195',\n",
       "       '196', '197', '198', '199', '200', '201', '203', '204', '205',\n",
       "       '206', '207', '208', '209', '210', '211', '212', '213', '214',\n",
       "       '17660', '28356', '28633', '28737', '28895', '29405', '32055',\n",
       "       '32298', '37037', '42063', '42095', '42365', '46280', '46777',\n",
       "       '46857', '46895', '47317', '49800', '49983', '54081', '54122',\n",
       "       '54203', '28956', '29239', '30243', '30754', '30932', '32399',\n",
       "       '32819', '32907', '34643', '36684', '41214', '42673', '42932',\n",
       "       '47562', '47993', '48701', '51766', '53091', '54305', '43603',\n",
       "       '7993', '9970', '10604', '13637', '17120', '21268', '25022',\n",
       "       '27056', '27131', '30557', '31721', '34912', '38730', '38858',\n",
       "       '38877', '40234', '43104', '43471', '46598', '46833', '47251',\n",
       "       '48570', '5747', '12953', '32357', '40137', '43102', '49157',\n",
       "       '43824', '45250', '47375', '47763', '215', '216', '217', '218',\n",
       "       '219', '220', '221', '222', '223', '224', '225', '226', '227',\n",
       "       '228', '229', '230', '231', '232', '233', '234', '235', '236',\n",
       "       '237', '238', '239', '240', '241', '242', '243'], dtype=object)"
      ]
     },
     "execution_count": 4,
     "metadata": {},
     "output_type": "execute_result"
    }
   ],
   "source": [
    "dataframe[\"Sr.No.\"].unique()"
   ]
  },
  {
   "cell_type": "code",
   "execution_count": 5,
   "metadata": {},
   "outputs": [
    {
     "data": {
      "text/plain": [
       "(75159, 13)"
      ]
     },
     "execution_count": 5,
     "metadata": {},
     "output_type": "execute_result"
    }
   ],
   "source": [
    "dataframe.shape"
   ]
  },
  {
   "cell_type": "code",
   "execution_count": 6,
   "metadata": {},
   "outputs": [],
   "source": [
    "vacent_record=dataframe[dataframe[\"Sr.No.\"]==\"-\"].index.values\n",
    "vacent_record_nan=dataframe[dataframe[\"Sr.No.\"].isnull()].index.values"
   ]
  },
  {
   "cell_type": "code",
   "execution_count": 7,
   "metadata": {},
   "outputs": [],
   "source": [
    "dataframe.iloc[vacent_record]=0\n",
    "dataframe.iloc[vacent_record_nan]=0"
   ]
  },
  {
   "cell_type": "code",
   "execution_count": 8,
   "metadata": {},
   "outputs": [],
   "source": [
    "dataframe[\"Sr.No.\"] = pd.to_numeric(dataframe[\"Sr.No.\"], errors='coerce').fillna(0).astype(np.int64)"
   ]
  },
  {
   "cell_type": "code",
   "execution_count": 9,
   "metadata": {},
   "outputs": [],
   "source": [
    "invalid_data= dataframe[dataframe[\"Sr.No.\"]>243].index.values\n",
    "dataframe.drop(index=invalid_data,inplace=True)"
   ]
  },
  {
   "cell_type": "code",
   "execution_count": 10,
   "metadata": {},
   "outputs": [
    {
     "data": {
      "text/plain": [
       "(75031, 13)"
      ]
     },
     "execution_count": 10,
     "metadata": {},
     "output_type": "execute_result"
    }
   ],
   "source": [
    "dataframe.shape"
   ]
  },
  {
   "cell_type": "code",
   "execution_count": 11,
   "metadata": {},
   "outputs": [],
   "source": [
    "dataframe.to_csv(\"../../data/raw/cap-1 student info.csv\")"
   ]
  },
  {
   "cell_type": "code",
   "execution_count": null,
   "metadata": {},
   "outputs": [],
   "source": []
  },
  {
   "cell_type": "code",
   "execution_count": null,
   "metadata": {},
   "outputs": [],
   "source": []
  },
  {
   "cell_type": "code",
   "execution_count": null,
   "metadata": {},
   "outputs": [],
   "source": []
  },
  {
   "cell_type": "code",
   "execution_count": null,
   "metadata": {},
   "outputs": [],
   "source": []
  }
 ],
 "metadata": {
  "kernelspec": {
   "display_name": "Python 3",
   "language": "python",
   "name": "python3"
  },
  "language_info": {
   "codemirror_mode": {
    "name": "ipython",
    "version": 3
   },
   "file_extension": ".py",
   "mimetype": "text/x-python",
   "name": "python",
   "nbconvert_exporter": "python",
   "pygments_lexer": "ipython3",
   "version": "3.7.6"
  }
 },
 "nbformat": 4,
 "nbformat_minor": 4
}
