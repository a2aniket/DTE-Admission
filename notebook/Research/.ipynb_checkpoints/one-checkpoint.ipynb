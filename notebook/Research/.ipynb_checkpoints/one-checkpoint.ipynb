{
 "cells": [
  {
   "cell_type": "markdown",
   "metadata": {},
   "source": [
    "# Reaserch"
   ]
  },
  {
   "cell_type": "code",
   "execution_count": 1,
   "metadata": {},
   "outputs": [],
   "source": [
    "import pandas as pd\n",
    "from matplotlib import pyplot as plt"
   ]
  },
  {
   "cell_type": "code",
   "execution_count": 2,
   "metadata": {},
   "outputs": [],
   "source": [
    "cap_one=pd.read_csv(\"../../data/processed/cap-1.csv\")\n",
    "cap_two=pd.read_csv(\"../../data/processed/cap-2.csv\")\n",
    "cap_three=pd.read_csv(\"../../data/processed/cap-3.csv\")"
   ]
  },
  {
   "cell_type": "code",
   "execution_count": 3,
   "metadata": {},
   "outputs": [],
   "source": [
    "cap_one[\"cap_round\"]=1\n",
    "cap_two[\"cap_round\"]=2\n",
    "cap_three[\"cap_round\"]=3"
   ]
  },
  {
   "cell_type": "code",
   "execution_count": 4,
   "metadata": {},
   "outputs": [
    {
     "data": {
      "text/html": [
       "<div>\n",
       "<style scoped>\n",
       "    .dataframe tbody tr th:only-of-type {\n",
       "        vertical-align: middle;\n",
       "    }\n",
       "\n",
       "    .dataframe tbody tr th {\n",
       "        vertical-align: top;\n",
       "    }\n",
       "\n",
       "    .dataframe thead th {\n",
       "        text-align: right;\n",
       "    }\n",
       "</style>\n",
       "<table border=\"1\" class=\"dataframe\">\n",
       "  <thead>\n",
       "    <tr style=\"text-align: right;\">\n",
       "      <th></th>\n",
       "      <th>Unnamed: 0</th>\n",
       "      <th>Merit No</th>\n",
       "      <th>Marks</th>\n",
       "      <th>Application ID</th>\n",
       "      <th>Name of Candidate</th>\n",
       "      <th>Gender</th>\n",
       "      <th>Category</th>\n",
       "      <th>Category id</th>\n",
       "      <th>Seat Type</th>\n",
       "      <th>PWD/DEF</th>\n",
       "      <th>Sub Group</th>\n",
       "      <th>sub group name</th>\n",
       "      <th>cource_code</th>\n",
       "      <th>cource code name</th>\n",
       "      <th>college_code</th>\n",
       "      <th>Institute dict</th>\n",
       "      <th>Institute Name</th>\n",
       "      <th>Seat conformation</th>\n",
       "      <th>Seat conformation id</th>\n",
       "      <th>cap_round</th>\n",
       "    </tr>\n",
       "  </thead>\n",
       "  <tbody>\n",
       "    <tr>\n",
       "      <th>0</th>\n",
       "      <td>0</td>\n",
       "      <td>60</td>\n",
       "      <td>95.13</td>\n",
       "      <td>19106856</td>\n",
       "      <td>PAWAR SIDDHI RAVINDRASINGH</td>\n",
       "      <td>F</td>\n",
       "      <td>OPEN</td>\n",
       "      <td>1</td>\n",
       "      <td>LOPEN</td>\n",
       "      <td>NaN</td>\n",
       "      <td>201</td>\n",
       "      <td>Civil</td>\n",
       "      <td>201</td>\n",
       "      <td>Civil</td>\n",
       "      <td>1002</td>\n",
       "      <td>Amravati</td>\n",
       "      <td>Government College of Engineering, Amravati</td>\n",
       "      <td>NaN</td>\n",
       "      <td>NaN</td>\n",
       "      <td>1</td>\n",
       "    </tr>\n",
       "    <tr>\n",
       "      <th>1</th>\n",
       "      <td>1</td>\n",
       "      <td>213</td>\n",
       "      <td>93.38</td>\n",
       "      <td>19126045</td>\n",
       "      <td>MAHALLE SHRADDHA MOHANRAO</td>\n",
       "      <td>F</td>\n",
       "      <td>OBC</td>\n",
       "      <td>2</td>\n",
       "      <td>GOPEN</td>\n",
       "      <td>NaN</td>\n",
       "      <td>201</td>\n",
       "      <td>Civil</td>\n",
       "      <td>201</td>\n",
       "      <td>Civil</td>\n",
       "      <td>1002</td>\n",
       "      <td>Amravati</td>\n",
       "      <td>Government College of Engineering, Amravati</td>\n",
       "      <td>NaN</td>\n",
       "      <td>NaN</td>\n",
       "      <td>1</td>\n",
       "    </tr>\n",
       "    <tr>\n",
       "      <th>2</th>\n",
       "      <td>2</td>\n",
       "      <td>384</td>\n",
       "      <td>92.47</td>\n",
       "      <td>19105661</td>\n",
       "      <td>TUSHAR RAJESH LAHANE</td>\n",
       "      <td>M</td>\n",
       "      <td>OBC</td>\n",
       "      <td>2</td>\n",
       "      <td>GOBC</td>\n",
       "      <td>NaN</td>\n",
       "      <td>201</td>\n",
       "      <td>Civil</td>\n",
       "      <td>201</td>\n",
       "      <td>Civil</td>\n",
       "      <td>1002</td>\n",
       "      <td>Amravati</td>\n",
       "      <td>Government College of Engineering, Amravati</td>\n",
       "      <td>NaN</td>\n",
       "      <td>NaN</td>\n",
       "      <td>1</td>\n",
       "    </tr>\n",
       "    <tr>\n",
       "      <th>3</th>\n",
       "      <td>3</td>\n",
       "      <td>420</td>\n",
       "      <td>92.31</td>\n",
       "      <td>19103256</td>\n",
       "      <td>RAUT PALASH SUBHASH</td>\n",
       "      <td>M</td>\n",
       "      <td>OBC</td>\n",
       "      <td>2</td>\n",
       "      <td>GOBC</td>\n",
       "      <td>NaN</td>\n",
       "      <td>201</td>\n",
       "      <td>Civil</td>\n",
       "      <td>201</td>\n",
       "      <td>Civil</td>\n",
       "      <td>1002</td>\n",
       "      <td>Amravati</td>\n",
       "      <td>Government College of Engineering, Amravati</td>\n",
       "      <td>NaN</td>\n",
       "      <td>NaN</td>\n",
       "      <td>1</td>\n",
       "    </tr>\n",
       "    <tr>\n",
       "      <th>4</th>\n",
       "      <td>4</td>\n",
       "      <td>465</td>\n",
       "      <td>92.12</td>\n",
       "      <td>19147230</td>\n",
       "      <td>INGLE DHANASHRI VIJAYSINH</td>\n",
       "      <td>F</td>\n",
       "      <td>SEBC</td>\n",
       "      <td>3</td>\n",
       "      <td>GSEBC</td>\n",
       "      <td>NaN</td>\n",
       "      <td>201</td>\n",
       "      <td>Civil</td>\n",
       "      <td>201</td>\n",
       "      <td>Civil</td>\n",
       "      <td>1002</td>\n",
       "      <td>Amravati</td>\n",
       "      <td>Government College of Engineering, Amravati</td>\n",
       "      <td>NaN</td>\n",
       "      <td>NaN</td>\n",
       "      <td>1</td>\n",
       "    </tr>\n",
       "  </tbody>\n",
       "</table>\n",
       "</div>"
      ],
      "text/plain": [
       "   Unnamed: 0  Merit No  Marks  Application ID           Name of Candidate  \\\n",
       "0           0        60  95.13        19106856  PAWAR SIDDHI RAVINDRASINGH   \n",
       "1           1       213  93.38        19126045   MAHALLE SHRADDHA MOHANRAO   \n",
       "2           2       384  92.47        19105661        TUSHAR RAJESH LAHANE   \n",
       "3           3       420  92.31        19103256         RAUT PALASH SUBHASH   \n",
       "4           4       465  92.12        19147230   INGLE DHANASHRI VIJAYSINH   \n",
       "\n",
       "  Gender Category  Category id Seat Type PWD/DEF  Sub Group sub group name  \\\n",
       "0      F     OPEN            1     LOPEN     NaN        201          Civil   \n",
       "1      F      OBC            2     GOPEN     NaN        201          Civil   \n",
       "2      M      OBC            2      GOBC     NaN        201          Civil   \n",
       "3      M      OBC            2      GOBC     NaN        201          Civil   \n",
       "4      F     SEBC            3     GSEBC     NaN        201          Civil   \n",
       "\n",
       "   cource_code cource code name  college_code Institute dict  \\\n",
       "0          201            Civil          1002       Amravati   \n",
       "1          201            Civil          1002       Amravati   \n",
       "2          201            Civil          1002       Amravati   \n",
       "3          201            Civil          1002       Amravati   \n",
       "4          201            Civil          1002       Amravati   \n",
       "\n",
       "                                Institute Name  Seat conformation  \\\n",
       "0  Government College of Engineering, Amravati                NaN   \n",
       "1  Government College of Engineering, Amravati                NaN   \n",
       "2  Government College of Engineering, Amravati                NaN   \n",
       "3  Government College of Engineering, Amravati                NaN   \n",
       "4  Government College of Engineering, Amravati                NaN   \n",
       "\n",
       "   Seat conformation id  cap_round  \n",
       "0                   NaN          1  \n",
       "1                   NaN          1  \n",
       "2                   NaN          1  \n",
       "3                   NaN          1  \n",
       "4                   NaN          1  "
      ]
     },
     "execution_count": 4,
     "metadata": {},
     "output_type": "execute_result"
    }
   ],
   "source": [
    "cap_one.head()"
   ]
  },
  {
   "cell_type": "code",
   "execution_count": 5,
   "metadata": {},
   "outputs": [
    {
     "data": {
      "text/html": [
       "<div>\n",
       "<style scoped>\n",
       "    .dataframe tbody tr th:only-of-type {\n",
       "        vertical-align: middle;\n",
       "    }\n",
       "\n",
       "    .dataframe tbody tr th {\n",
       "        vertical-align: top;\n",
       "    }\n",
       "\n",
       "    .dataframe thead th {\n",
       "        text-align: right;\n",
       "    }\n",
       "</style>\n",
       "<table border=\"1\" class=\"dataframe\">\n",
       "  <thead>\n",
       "    <tr style=\"text-align: right;\">\n",
       "      <th></th>\n",
       "      <th>Merit No</th>\n",
       "      <th>Marks</th>\n",
       "      <th>Application ID</th>\n",
       "      <th>Name of Candidate</th>\n",
       "      <th>Gender</th>\n",
       "      <th>Category</th>\n",
       "      <th>Category id</th>\n",
       "      <th>Seat Type</th>\n",
       "      <th>PWD/DEF</th>\n",
       "      <th>Sub Group</th>\n",
       "      <th>sub group name</th>\n",
       "      <th>cource_code</th>\n",
       "      <th>cource code name</th>\n",
       "      <th>college_code</th>\n",
       "      <th>Institute dict</th>\n",
       "      <th>Institute Name</th>\n",
       "      <th>Seat conformation</th>\n",
       "      <th>Seat conformation id</th>\n",
       "      <th>cap_round</th>\n",
       "    </tr>\n",
       "  </thead>\n",
       "  <tbody>\n",
       "    <tr>\n",
       "      <th>0</th>\n",
       "      <td>60</td>\n",
       "      <td>95.13</td>\n",
       "      <td>19106856</td>\n",
       "      <td>PAWAR SIDDHI RAVINDRASINGH</td>\n",
       "      <td>F</td>\n",
       "      <td>OPEN</td>\n",
       "      <td>1</td>\n",
       "      <td>LOPEN</td>\n",
       "      <td>NaN</td>\n",
       "      <td>201</td>\n",
       "      <td>Civil</td>\n",
       "      <td>201</td>\n",
       "      <td>Civil</td>\n",
       "      <td>1002</td>\n",
       "      <td>Amravati</td>\n",
       "      <td>Government College of Engineering, Amravati</td>\n",
       "      <td>NaN</td>\n",
       "      <td>NaN</td>\n",
       "      <td>1</td>\n",
       "    </tr>\n",
       "    <tr>\n",
       "      <th>1</th>\n",
       "      <td>213</td>\n",
       "      <td>93.38</td>\n",
       "      <td>19126045</td>\n",
       "      <td>MAHALLE SHRADDHA MOHANRAO</td>\n",
       "      <td>F</td>\n",
       "      <td>OBC</td>\n",
       "      <td>2</td>\n",
       "      <td>GOPEN</td>\n",
       "      <td>NaN</td>\n",
       "      <td>201</td>\n",
       "      <td>Civil</td>\n",
       "      <td>201</td>\n",
       "      <td>Civil</td>\n",
       "      <td>1002</td>\n",
       "      <td>Amravati</td>\n",
       "      <td>Government College of Engineering, Amravati</td>\n",
       "      <td>NaN</td>\n",
       "      <td>NaN</td>\n",
       "      <td>1</td>\n",
       "    </tr>\n",
       "    <tr>\n",
       "      <th>2</th>\n",
       "      <td>384</td>\n",
       "      <td>92.47</td>\n",
       "      <td>19105661</td>\n",
       "      <td>TUSHAR RAJESH LAHANE</td>\n",
       "      <td>M</td>\n",
       "      <td>OBC</td>\n",
       "      <td>2</td>\n",
       "      <td>GOBC</td>\n",
       "      <td>NaN</td>\n",
       "      <td>201</td>\n",
       "      <td>Civil</td>\n",
       "      <td>201</td>\n",
       "      <td>Civil</td>\n",
       "      <td>1002</td>\n",
       "      <td>Amravati</td>\n",
       "      <td>Government College of Engineering, Amravati</td>\n",
       "      <td>NaN</td>\n",
       "      <td>NaN</td>\n",
       "      <td>1</td>\n",
       "    </tr>\n",
       "    <tr>\n",
       "      <th>3</th>\n",
       "      <td>420</td>\n",
       "      <td>92.31</td>\n",
       "      <td>19103256</td>\n",
       "      <td>RAUT PALASH SUBHASH</td>\n",
       "      <td>M</td>\n",
       "      <td>OBC</td>\n",
       "      <td>2</td>\n",
       "      <td>GOBC</td>\n",
       "      <td>NaN</td>\n",
       "      <td>201</td>\n",
       "      <td>Civil</td>\n",
       "      <td>201</td>\n",
       "      <td>Civil</td>\n",
       "      <td>1002</td>\n",
       "      <td>Amravati</td>\n",
       "      <td>Government College of Engineering, Amravati</td>\n",
       "      <td>NaN</td>\n",
       "      <td>NaN</td>\n",
       "      <td>1</td>\n",
       "    </tr>\n",
       "    <tr>\n",
       "      <th>4</th>\n",
       "      <td>465</td>\n",
       "      <td>92.12</td>\n",
       "      <td>19147230</td>\n",
       "      <td>INGLE DHANASHRI VIJAYSINH</td>\n",
       "      <td>F</td>\n",
       "      <td>SEBC</td>\n",
       "      <td>3</td>\n",
       "      <td>GSEBC</td>\n",
       "      <td>NaN</td>\n",
       "      <td>201</td>\n",
       "      <td>Civil</td>\n",
       "      <td>201</td>\n",
       "      <td>Civil</td>\n",
       "      <td>1002</td>\n",
       "      <td>Amravati</td>\n",
       "      <td>Government College of Engineering, Amravati</td>\n",
       "      <td>NaN</td>\n",
       "      <td>NaN</td>\n",
       "      <td>1</td>\n",
       "    </tr>\n",
       "  </tbody>\n",
       "</table>\n",
       "</div>"
      ],
      "text/plain": [
       "   Merit No  Marks  Application ID           Name of Candidate Gender  \\\n",
       "0        60  95.13        19106856  PAWAR SIDDHI RAVINDRASINGH      F   \n",
       "1       213  93.38        19126045   MAHALLE SHRADDHA MOHANRAO      F   \n",
       "2       384  92.47        19105661        TUSHAR RAJESH LAHANE      M   \n",
       "3       420  92.31        19103256         RAUT PALASH SUBHASH      M   \n",
       "4       465  92.12        19147230   INGLE DHANASHRI VIJAYSINH      F   \n",
       "\n",
       "  Category  Category id Seat Type PWD/DEF  Sub Group sub group name  \\\n",
       "0     OPEN            1     LOPEN     NaN        201          Civil   \n",
       "1      OBC            2     GOPEN     NaN        201          Civil   \n",
       "2      OBC            2      GOBC     NaN        201          Civil   \n",
       "3      OBC            2      GOBC     NaN        201          Civil   \n",
       "4     SEBC            3     GSEBC     NaN        201          Civil   \n",
       "\n",
       "   cource_code cource code name  college_code Institute dict  \\\n",
       "0          201            Civil          1002       Amravati   \n",
       "1          201            Civil          1002       Amravati   \n",
       "2          201            Civil          1002       Amravati   \n",
       "3          201            Civil          1002       Amravati   \n",
       "4          201            Civil          1002       Amravati   \n",
       "\n",
       "                                Institute Name Seat conformation  \\\n",
       "0  Government College of Engineering, Amravati               NaN   \n",
       "1  Government College of Engineering, Amravati               NaN   \n",
       "2  Government College of Engineering, Amravati               NaN   \n",
       "3  Government College of Engineering, Amravati               NaN   \n",
       "4  Government College of Engineering, Amravati               NaN   \n",
       "\n",
       "   Seat conformation id  cap_round  \n",
       "0                   NaN          1  \n",
       "1                   NaN          1  \n",
       "2                   NaN          1  \n",
       "3                   NaN          1  \n",
       "4                   NaN          1  "
      ]
     },
     "execution_count": 5,
     "metadata": {},
     "output_type": "execute_result"
    }
   ],
   "source": [
    "dataframe=pd.concat([cap_one,cap_two,cap_three])\n",
    "dataframe.drop([\"Unnamed: 0\"],axis=1,inplace=True)\n",
    "dataframe.head()"
   ]
  },
  {
   "cell_type": "markdown",
   "metadata": {},
   "source": [
    "## Basic questions:"
   ]
  },
  {
   "cell_type": "markdown",
   "metadata": {},
   "source": [
    "### Total no of applications."
   ]
  },
  {
   "cell_type": "markdown",
   "metadata": {},
   "source": [
    "### 54563"
   ]
  },
  {
   "cell_type": "markdown",
   "metadata": {},
   "source": [
    "### No of male/female application"
   ]
  },
  {
   "cell_type": "code",
   "execution_count": 6,
   "metadata": {},
   "outputs": [
    {
     "data": {
      "text/plain": [
       "Gender\n",
       "0        1\n",
       "F    14795\n",
       "M    32908\n",
       "Name: Application ID, dtype: int64"
      ]
     },
     "execution_count": 6,
     "metadata": {},
     "output_type": "execute_result"
    }
   ],
   "source": [
    "data=cap_three[\"Application ID\"].groupby(cap_three[\"Gender\"]).nunique().sort_values()\n",
    "data"
   ]
  },
  {
   "cell_type": "code",
   "execution_count": 7,
   "metadata": {},
   "outputs": [],
   "source": [
    "y=data.values[-2:]\n",
    "x=data.index[-2:]\n",
    "y=y.tolist()\n",
    "x=x.tolist()"
   ]
  },
  {
   "cell_type": "code",
   "execution_count": 8,
   "metadata": {},
   "outputs": [
    {
     "data": {
      "image/png": "[encoded data removed]",
      "text/plain": [
       "<Figure size 640x480 with 1 Axes>"
      ]
     },
     "metadata": {},
     "output_type": "display_data"
    }
   ],
   "source": [
    "import matplotlib.pyplot as plt; plt.rcdefaults()\n",
    "import matplotlib.pyplot as plt\n",
    "\n",
    "plt.bar(x, y,color=\"g\")\n",
    "plt.ylabel('Usage')\n",
    "plt.title('Applicatin Gender')\n",
    "plt.show()"
   ]
  },
  {
   "cell_type": "markdown",
   "metadata": {},
   "source": [
    "### Reservations percentage against available seats"
   ]
  },
  {
   "cell_type": "code",
   "execution_count": 9,
   "metadata": {},
   "outputs": [],
   "source": [
    "data=cap_three[\"Application ID\"].groupby(cap_three[\"Seat Type\"]).nunique().sort_values"
   ]
  },
  {
   "cell_type": "code",
   "execution_count": 10,
   "metadata": {},
   "outputs": [],
   "source": [
    "data=cap_three[\"Application ID\"].groupby(cap_three[\"Seat Type\"]).nunique().sort_values()\n",
    "percentange = data.groupby(level=0).apply(lambda x:100 * x / float(data.sum()))\n",
    "percentange.sort_values()\n",
    "y=data.values\n",
    "x=data.index\n",
    "y=y.tolist()\n",
    "x=x.tolist()"
   ]
  },
  {
   "cell_type": "markdown",
   "metadata": {},
   "source": [
    "### Seat Percentage"
   ]
  },
  {
   "cell_type": "raw",
   "metadata": {},
   "source": [
    "Seat Type\n",
    "DFSEBC     0.104815\n",
    "DFOBC      0.129971\n",
    "DFST       0.136260\n",
    "DFSC       0.144645\n",
    "DFNTA      0.194956\n",
    "DFNTB      0.199149\n",
    "DFNTC      0.201245\n",
    "DFO        0.222208\n",
    "LNTD       0.222208\n",
    "PHNTC      0.224305\n",
    "DFNTD      0.245268\n",
    "PHSEBC     0.268327\n",
    "PHST       0.283001\n",
    "PHNTA      0.301868\n",
    "PHNTB      0.322831\n",
    "PHOBC      0.347986\n",
    "PHSC       0.356372\n",
    "PHNTD      0.366853\n",
    "LNTB       0.421357\n",
    "PHO        0.433935\n",
    "GNTD       0.509402\n",
    "LNTA       0.559713\n",
    "LNTC       0.792403\n",
    "GNTB       0.796596\n",
    "GNTA       1.033478\n",
    "GNTC       1.322768\n",
    "LST        1.551265\n",
    "EWS        1.586902\n",
    "LSEBC      2.333187\n",
    "MI         2.647632\n",
    "GST        3.133975\n",
    "MIMH       3.234597\n",
    "LSC        3.251368\n",
    "LOBC       4.297424\n",
    "GSEBC      5.324613\n",
    "GSC        6.833952\n",
    "GOBC       9.517221\n",
    "LOPEN     13.875438\n",
    "GOPEN     32.270507"
   ]
  },
  {
   "cell_type": "code",
   "execution_count": 11,
   "metadata": {},
   "outputs": [
    {
     "data": {
      "image/png": "[encoded data removed]",
      "text/plain": [
       "<Figure size 640x480 with 1 Axes>"
      ]
     },
     "metadata": {},
     "output_type": "display_data"
    }
   ],
   "source": [
    "import matplotlib.pyplot as plt; plt.rcdefaults()\n",
    "\n",
    "plt.barh(x[-16:], y[-16:], align='center',color=\"g\")\n",
    "plt.ylabel(\"cast\")\n",
    "plt.xlabel(\"Number of student\")\n",
    "plt.title('cast wise addmination')\n",
    "plt.show()"
   ]
  },
  {
   "cell_type": "markdown",
   "metadata": {},
   "source": [
    "### Most popular course.(popularity of courses).Demand for a course and availability of seats"
   ]
  },
  {
   "cell_type": "code",
   "execution_count": 12,
   "metadata": {},
   "outputs": [],
   "source": [
    "data=cap_three[\"Application ID\"].groupby(cap_three[\"sub group name\"]).nunique().sort_values()\n",
    "y=data.values\n",
    "x=data.index\n",
    "y=y.tolist()\n",
    "x=x.tolist()"
   ]
  },
  {
   "cell_type": "code",
   "execution_count": 13,
   "metadata": {},
   "outputs": [
    {
     "data": {
      "image/png": "[encoded data removed]",
      "text/plain": [
       "<Figure size 640x480 with 1 Axes>"
      ]
     },
     "metadata": {},
     "output_type": "display_data"
    }
   ],
   "source": [
    "import matplotlib.pyplot as plt; plt.rcdefaults()\n",
    "plt.barh(x[:], y[:], align='center',color=\"g\")\n",
    "plt.ylabel(\"Course\")\n",
    "plt.xlabel(\"seats\")\n",
    "plt.title('course and availability of seat')\n",
    "plt.show()"
   ]
  },
  {
   "cell_type": "code",
   "execution_count": 18,
   "metadata": {},
   "outputs": [
    {
     "data": {
      "text/plain": [
       "(73580, 15)"
      ]
     },
     "execution_count": 18,
     "metadata": {},
     "output_type": "execute_result"
    }
   ],
   "source": [
    "raw_data=pd.read_csv(\"../../data/raw/Cap-3 Student Info.csv\")\n",
    "raw_data.shape"
   ]
  },
  {
   "cell_type": "code",
   "execution_count": 28,
   "metadata": {},
   "outputs": [],
   "source": [
    "cource_data=({   \n",
    "    101:\"Chemical\",\n",
    "    102:\"Plastic\",\n",
    "    103:\"Food Technology\",\n",
    "    104:\"Oil and Paints Technology\",\n",
    "    105:\"\",\n",
    "    201 :\"Civil\",\n",
    "    301:\"Computer & IT\",\n",
    "    303:\" Medical Electronics\",\n",
    "    304:\"Electrical\",\n",
    "    302:\"ENTC\",\n",
    "    305:\"Instrumentation\",\n",
    "    401:\"Machanical\",\n",
    "    402:\"Production\",\n",
    "    403:\"Packaging Technology\",\n",
    "    404:\"Metallurgy (Foundry Technology)\",\n",
    "    405:\"Aeronautical Engineering\",\n",
    "    501:\"Mining\",\n",
    "    601:\"Printing Technology\",\n",
    "    701:\"Knitting Technology\",\n",
    "    702:\"Man made Textile Chemistry\",\n",
    "})\n",
    "raw_data[\"sub group name\"]=raw_data[\"Sub Group\"].map(cource_data)\n",
    "raw_data[\"cource code name\"]=raw_data[\"cource_code\"].map(cource_data)"
   ]
  },
  {
   "cell_type": "code",
   "execution_count": 31,
   "metadata": {},
   "outputs": [],
   "source": [
    "data=cap_three[\"Application ID\"].groupby(cap_three[\"cource code name\"]).nunique().sort_values()\n",
    "data1=raw_data[\"Application ID\"].groupby(raw_data[\"cource code name\"]).nunique().sort_values()"
   ]
  },
  {
   "cell_type": "code",
   "execution_count": 32,
   "metadata": {},
   "outputs": [
    {
     "data": {
      "text/plain": [
       "cource code name\n",
       "Man made Textile Chemistry         1.000000\n",
       "Metallurgy (Foundry Technology)    1.000000\n",
       "Oil and Paints Technology          0.933333\n",
       "Food Technology                    0.954545\n",
       " Medical Electronics               0.980769\n",
       "Printing Technology                0.980769\n",
       "Plastic                            0.984375\n",
       "Knitting Technology                1.000000\n",
       "Mining                             0.987342\n",
       "Production                         0.996540\n",
       "Instrumentation                    0.997773\n",
       "Chemical                           0.998077\n",
       "ENTC                               0.999823\n",
       "Electrical                         0.999836\n",
       "Computer & IT                      0.999892\n",
       "Civil                              0.999907\n",
       "Machanical                         0.999930\n",
       "Name: Application ID, dtype: float64"
      ]
     },
     "execution_count": 32,
     "metadata": {},
     "output_type": "execute_result"
    }
   ],
   "source": [
    "data/data1"
   ]
  },
  {
   "cell_type": "code",
   "execution_count": null,
   "metadata": {},
   "outputs": [],
   "source": []
  }
 ],
 "metadata": {
  "kernelspec": {
   "display_name": "Python 3",
   "language": "python",
   "name": "python3"
  },
  "language_info": {
   "codemirror_mode": {
    "name": "ipython",
    "version": 3
   },
   "file_extension": ".py",
   "mimetype": "text/x-python",
   "name": "python",
   "nbconvert_exporter": "python",
   "pygments_lexer": "ipython3",
   "version": "3.7.6"
  }
 },
 "nbformat": 4,
 "nbformat_minor": 4
}
