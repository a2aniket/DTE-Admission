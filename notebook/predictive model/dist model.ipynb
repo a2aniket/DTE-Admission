{
 "cells": [
  {
   "cell_type": "code",
   "execution_count": 4,
   "metadata": {},
   "outputs": [],
   "source": [
    "import pandas as pd\n",
    "from os import listdir\n",
    "from os.path import isfile, join\n",
    "import os\n",
    "from sklearn.ensemble import RandomForestClassifier\n",
    "import pickle"
   ]
  },
  {
   "cell_type": "code",
   "execution_count": null,
   "metadata": {},
   "outputs": [],
   "source": []
  },
  {
   "cell_type": "code",
   "execution_count": 5,
   "metadata": {},
   "outputs": [],
   "source": [
    "def train_model(file_name,name,folder):\n",
    "    if \"nan\" not in file_name:\n",
    "        df=pd.read_csv(file_name)\n",
    "        gender=dict({\n",
    "            \"F\":1,\n",
    "            \"M\":0\n",
    "            })\n",
    "        df[\"GenderCode\"]=df[\"Gender\"].map(gender)\n",
    "        df[\"Institute Name\"]=df[\"Institute Name\"].fillna(\"not define\")\n",
    "        x=df[[\"Marks\",\"GenderCode\",\"cource_code\"]]\n",
    "        y=df[\"Institute Name\"]\n",
    "        print(x.shape)\n",
    "        forest=RandomForestClassifier()\n",
    "        forest.fit(x,y)\n",
    "        if os.path.exists(\"../../data/Train Model/dist/{}\".format(folder)):    \n",
    "            filename = '../../data/Train Model/dist/{}/model {}.pkl'.format(folder,name)\n",
    "            outfile = open(filename,'wb')\n",
    "            pickle.dump(forest,outfile)\n",
    "            outfile.close()\n",
    "        else:\n",
    "            os.makedirs(\"../../data/Train Model/dist/{}\".format(folder))\n",
    "            filename = '../../data/Train Model/dist/{}/model {}.pkl'.format(folder,name)\n",
    "            outfile = open(filename,'wb')\n",
    "            pickle.dump(forest,outfile)\n",
    "            outfile.close()\n",
    "            "
   ]
  },
  {
   "cell_type": "code",
   "execution_count": null,
   "metadata": {},
   "outputs": [
    {
     "name": "stdout",
     "output_type": "stream",
     "text": [
      "Ahmednagar\n",
      "\tDTVJNTA.csv\n",
      "(828, 3)\n",
      "\tNT1.csv\n",
      "(1298, 3)\n",
      "\tNT2.csv\n",
      "(1536, 3)\n",
      "\tNT3.csv\n",
      "(773, 3)\n",
      "\tOBC.csv\n",
      "(11689, 3)\n",
      "\tOPEN.csv\n",
      "(17343, 3)\n",
      "\tOPENEWS.csv\n",
      "(1165, 3)\n",
      "\tSBCOBC.csv\n",
      "(1306, 3)\n",
      "\tSC.csv\n",
      "(6003, 3)\n",
      "\tSEBC.csv\n",
      "(4920, 3)\n",
      "\tST.csv\n",
      "(850, 3)\n",
      "Akola\n",
      "\tDTVJNTA.csv\n",
      "(828, 3)\n",
      "\tNT1.csv\n",
      "(1298, 3)\n",
      "\tNT2.csv\n",
      "(1536, 3)\n",
      "\tOBC.csv\n",
      "(11689, 3)\n",
      "\tOPEN.csv\n",
      "(17343, 3)\n",
      "\tOPENEWS.csv\n",
      "(1165, 3)\n",
      "\tSBCOBC.csv\n",
      "(1306, 3)\n",
      "\tSC.csv\n",
      "(6003, 3)\n",
      "\tST.csv\n",
      "(850, 3)\n",
      "Amravati\n",
      "\tDTVJNTA.csv\n",
      "(828, 3)\n",
      "\tNT1.csv\n",
      "(1298, 3)\n",
      "\tNT2.csv\n",
      "(1536, 3)\n",
      "\tNT3.csv\n",
      "(773, 3)\n",
      "\tOBC.csv\n",
      "(11689, 3)\n",
      "\tOPEN.csv\n",
      "(17343, 3)\n",
      "\tOPENEWS.csv\n",
      "(1165, 3)\n",
      "\tSBCOBC.csv\n",
      "(1306, 3)\n",
      "\tSC.csv\n",
      "(6003, 3)\n",
      "\tSEBC.csv\n",
      "(4920, 3)\n",
      "\tST.csv\n",
      "(850, 3)\n",
      "Aurangabad\n",
      "\tDTVJNTA.csv\n",
      "(828, 3)\n",
      "\tNT1.csv\n",
      "(1298, 3)\n",
      "\tNT2.csv\n",
      "(1536, 3)\n",
      "\tNT3.csv\n",
      "(773, 3)\n",
      "\tOBC.csv\n",
      "(11689, 3)\n"
     ]
    }
   ],
   "source": [
    "file_name = [f for f in listdir(\"../../data/processed/dist data/\") ]\n",
    "for folder in file_name:\n",
    "    print(folder)\n",
    "    dataset = [f for f in listdir(\"../../data/processed/dist data/{}/cast\".format(folder)) if isfile(join(\"../../data/processed/dist data/{}/cast\".format(folder), f))]\n",
    "    for file in dataset:\n",
    "        print(\"\\t\"+file)\n",
    "        train_model(\"../../data/processed/Category data/{}\".format(file),file[0:4],folder)\n",
    "        "
   ]
  },
  {
   "cell_type": "code",
   "execution_count": null,
   "metadata": {},
   "outputs": [],
   "source": [
    "name"
   ]
  },
  {
   "cell_type": "code",
   "execution_count": null,
   "metadata": {},
   "outputs": [],
   "source": [
    "folder"
   ]
  },
  {
   "cell_type": "code",
   "execution_count": null,
   "metadata": {},
   "outputs": [],
   "source": []
  }
 ],
 "metadata": {
  "kernelspec": {
   "display_name": "Python 3",
   "language": "python",
   "name": "python3"
  },
  "language_info": {
   "codemirror_mode": {
    "name": "ipython",
    "version": 3
   },
   "file_extension": ".py",
   "mimetype": "text/x-python",
   "name": "python",
   "nbconvert_exporter": "python",
   "pygments_lexer": "ipython3",
   "version": "3.7.6"
  }
 },
 "nbformat": 4,
 "nbformat_minor": 4
}
