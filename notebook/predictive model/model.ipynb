{
 "cells": [
  {
   "cell_type": "code",
   "execution_count": 25,
   "metadata": {},
   "outputs": [],
   "source": [
    "import pandas as pd\n",
    "import numpy as np\n",
    "import matplotlib.pyplot as plt\n",
    "import seaborn as sns\n",
    "from sklearn.model_selection import RandomizedSearchCV\n",
    "from sklearn.ensemble import RandomForestClassifier\n",
    "from sklearn.preprocessing import MinMaxScaler \n",
    "from os import listdir\n",
    "from os.path import isfile, join \n",
    "import pickle"
   ]
  },
  {
   "cell_type": "code",
   "execution_count": null,
   "metadata": {},
   "outputs": [],
   "source": []
  },
  {
   "cell_type": "code",
   "execution_count": 51,
   "metadata": {},
   "outputs": [],
   "source": [
    "def train_model(file_name,name):\n",
    "    if \"nan\" not in file_name:\n",
    "        df=pd.read_csv(file_name)\n",
    "        gender=dict({\n",
    "            \"F\":1,\n",
    "            \"M\":0\n",
    "            })\n",
    "        df[\"GenderCode\"]=df[\"Gender\"].map(gender)\n",
    "        df[\"Institute Name\"]=df[\"Institute Name\"].fillna(\"not define\")\n",
    "        x=df[[\"Marks\",\"GenderCode\",\"cource_code\"]]\n",
    "        y=df[\"Institute Name\"]\n",
    "        print(x.shape)\n",
    "        forest=RandomForestClassifier()\n",
    "        forest.fit(x,y)\n",
    "        filename = '../../data/Train Model/model {}.pkl'.format(name)\n",
    "        outfile = open(filename,'wb')\n",
    "        pickle.dump(forest,outfile)\n",
    "        outfile.close()\n",
    "    "
   ]
  },
  {
   "cell_type": "code",
   "execution_count": 52,
   "metadata": {},
   "outputs": [
    {
     "name": "stdout",
     "output_type": "stream",
     "text": [
      "(828, 3)\n",
      "(1298, 3)\n",
      "(1536, 3)\n",
      "(773, 3)\n",
      "(11689, 3)\n",
      "(17343, 3)\n",
      "(1165, 3)\n",
      "(1306, 3)\n",
      "(6003, 3)\n",
      "(4920, 3)\n",
      "(850, 3)\n"
     ]
    }
   ],
   "source": [
    "file_name = [f for f in listdir(\"../../data/processed/Category data/\") if isfile(join(\"../../data/processed/Category data/\", f))]\n",
    "for i in range(len(file_name)):\n",
    "    train_model(\"../../data/processed/Category data/{}\".format(file_name[i]),file_name[i][0:4])"
   ]
  },
  {
   "cell_type": "code",
   "execution_count": 40,
   "metadata": {},
   "outputs": [
    {
     "data": {
      "text/html": [
       "<div>\n",
       "<style scoped>\n",
       "    .dataframe tbody tr th:only-of-type {\n",
       "        vertical-align: middle;\n",
       "    }\n",
       "\n",
       "    .dataframe tbody tr th {\n",
       "        vertical-align: top;\n",
       "    }\n",
       "\n",
       "    .dataframe thead th {\n",
       "        text-align: right;\n",
       "    }\n",
       "</style>\n",
       "<table border=\"1\" class=\"dataframe\">\n",
       "  <thead>\n",
       "    <tr style=\"text-align: right;\">\n",
       "      <th></th>\n",
       "      <th>Unnamed: 0</th>\n",
       "      <th>Merit No</th>\n",
       "      <th>Marks</th>\n",
       "      <th>Application ID</th>\n",
       "      <th>Name of Candidate</th>\n",
       "      <th>Gender</th>\n",
       "      <th>Category</th>\n",
       "      <th>Category id</th>\n",
       "      <th>Seat Type</th>\n",
       "      <th>PWD/DEF</th>\n",
       "      <th>Sub Group</th>\n",
       "      <th>sub group name</th>\n",
       "      <th>cource_code</th>\n",
       "      <th>cource code name</th>\n",
       "      <th>college_code</th>\n",
       "      <th>Institute dict</th>\n",
       "      <th>Institute Name</th>\n",
       "      <th>Seat conformation</th>\n",
       "      <th>Seat conformation id</th>\n",
       "    </tr>\n",
       "  </thead>\n",
       "  <tbody>\n",
       "    <tr>\n",
       "      <th>0</th>\n",
       "      <td>7</td>\n",
       "      <td>8635</td>\n",
       "      <td>81.09</td>\n",
       "      <td>19115650</td>\n",
       "      <td>KOKATE SATYABHAMA PRALHAD</td>\n",
       "      <td>F</td>\n",
       "      <td>ST</td>\n",
       "      <td>6</td>\n",
       "      <td>LST</td>\n",
       "      <td>NaN</td>\n",
       "      <td>201</td>\n",
       "      <td>Civil</td>\n",
       "      <td>201</td>\n",
       "      <td>Civil</td>\n",
       "      <td>1002</td>\n",
       "      <td>Amravati</td>\n",
       "      <td>Government College of Engineering, Amravati</td>\n",
       "      <td>^</td>\n",
       "      <td>1.0</td>\n",
       "    </tr>\n",
       "    <tr>\n",
       "      <th>1</th>\n",
       "      <td>132</td>\n",
       "      <td>51740</td>\n",
       "      <td>57.70</td>\n",
       "      <td>19146979</td>\n",
       "      <td>KUMARE AKSHAY SHYAM</td>\n",
       "      <td>M</td>\n",
       "      <td>ST</td>\n",
       "      <td>6</td>\n",
       "      <td>GST</td>\n",
       "      <td>NaN</td>\n",
       "      <td>101</td>\n",
       "      <td>Chemical</td>\n",
       "      <td>101</td>\n",
       "      <td>Chemical</td>\n",
       "      <td>3033</td>\n",
       "      <td>Raigad</td>\n",
       "      <td>Dr. Babasaheb Ambedkar Technological Universit...</td>\n",
       "      <td>^</td>\n",
       "      <td>1.0</td>\n",
       "    </tr>\n",
       "    <tr>\n",
       "      <th>2</th>\n",
       "      <td>238</td>\n",
       "      <td>50509</td>\n",
       "      <td>58.85</td>\n",
       "      <td>19124447</td>\n",
       "      <td>HANDE SURAJ KISAN</td>\n",
       "      <td>M</td>\n",
       "      <td>ST</td>\n",
       "      <td>6</td>\n",
       "      <td>GST</td>\n",
       "      <td>NaN</td>\n",
       "      <td>101</td>\n",
       "      <td>Chemical</td>\n",
       "      <td>101</td>\n",
       "      <td>Chemical</td>\n",
       "      <td>3187</td>\n",
       "      <td>Thane</td>\n",
       "      <td>N.Y.S.S.'s Datta Meghe College of Engineering,...</td>\n",
       "      <td>^</td>\n",
       "      <td>1.0</td>\n",
       "    </tr>\n",
       "    <tr>\n",
       "      <th>3</th>\n",
       "      <td>283</td>\n",
       "      <td>49332</td>\n",
       "      <td>60.00</td>\n",
       "      <td>19124142</td>\n",
       "      <td>GAMBHIRE KRUSHNA RAMDAS</td>\n",
       "      <td>M</td>\n",
       "      <td>ST</td>\n",
       "      <td>6</td>\n",
       "      <td>GST</td>\n",
       "      <td>NaN</td>\n",
       "      <td>101</td>\n",
       "      <td>Chemical</td>\n",
       "      <td>101</td>\n",
       "      <td>Chemical</td>\n",
       "      <td>3193</td>\n",
       "      <td>Thane</td>\n",
       "      <td>Shivajirao S. Jondhale College of Engineering,...</td>\n",
       "      <td>^</td>\n",
       "      <td>1.0</td>\n",
       "    </tr>\n",
       "    <tr>\n",
       "      <th>4</th>\n",
       "      <td>364</td>\n",
       "      <td>43789</td>\n",
       "      <td>62.67</td>\n",
       "      <td>19142442</td>\n",
       "      <td>MOKASHE AVINASH ARUN</td>\n",
       "      <td>M</td>\n",
       "      <td>ST</td>\n",
       "      <td>6</td>\n",
       "      <td>LST</td>\n",
       "      <td>NaN</td>\n",
       "      <td>101</td>\n",
       "      <td>Chemical</td>\n",
       "      <td>101</td>\n",
       "      <td>Chemical</td>\n",
       "      <td>4005</td>\n",
       "      <td>Nagpur</td>\n",
       "      <td>Laxminarayan Institute of Technology, Nagpur</td>\n",
       "      <td>^</td>\n",
       "      <td>1.0</td>\n",
       "    </tr>\n",
       "  </tbody>\n",
       "</table>\n",
       "</div>"
      ],
      "text/plain": [
       "   Unnamed: 0  Merit No  Marks  Application ID          Name of Candidate  \\\n",
       "0           7      8635  81.09        19115650  KOKATE SATYABHAMA PRALHAD   \n",
       "1         132     51740  57.70        19146979        KUMARE AKSHAY SHYAM   \n",
       "2         238     50509  58.85        19124447          HANDE SURAJ KISAN   \n",
       "3         283     49332  60.00        19124142    GAMBHIRE KRUSHNA RAMDAS   \n",
       "4         364     43789  62.67        19142442       MOKASHE AVINASH ARUN   \n",
       "\n",
       "  Gender Category  Category id Seat Type PWD/DEF  Sub Group sub group name  \\\n",
       "0      F       ST            6       LST     NaN        201          Civil   \n",
       "1      M       ST            6       GST     NaN        101       Chemical   \n",
       "2      M       ST            6       GST     NaN        101       Chemical   \n",
       "3      M       ST            6       GST     NaN        101       Chemical   \n",
       "4      M       ST            6       LST     NaN        101       Chemical   \n",
       "\n",
       "   cource_code cource code name  college_code Institute dict  \\\n",
       "0          201            Civil          1002       Amravati   \n",
       "1          101         Chemical          3033         Raigad   \n",
       "2          101         Chemical          3187          Thane   \n",
       "3          101         Chemical          3193          Thane   \n",
       "4          101         Chemical          4005         Nagpur   \n",
       "\n",
       "                                      Institute Name Seat conformation  \\\n",
       "0        Government College of Engineering, Amravati                 ^   \n",
       "1  Dr. Babasaheb Ambedkar Technological Universit...                 ^   \n",
       "2  N.Y.S.S.'s Datta Meghe College of Engineering,...                 ^   \n",
       "3  Shivajirao S. Jondhale College of Engineering,...                 ^   \n",
       "4       Laxminarayan Institute of Technology, Nagpur                 ^   \n",
       "\n",
       "   Seat conformation id  \n",
       "0                   1.0  \n",
       "1                   1.0  \n",
       "2                   1.0  \n",
       "3                   1.0  \n",
       "4                   1.0  "
      ]
     },
     "execution_count": 40,
     "metadata": {},
     "output_type": "execute_result"
    }
   ],
   "source": [
    "df=pd.read_csv(\"../../data/processed/Category data/ST.csv\")\n",
    "df.head()"
   ]
  },
  {
   "cell_type": "code",
   "execution_count": 47,
   "metadata": {},
   "outputs": [
    {
     "name": "stdout",
     "output_type": "stream",
     "text": [
      "(850, 3)\n",
      "(850,)\n"
     ]
    },
    {
     "data": {
      "text/plain": [
       "RandomForestClassifier(bootstrap=True, ccp_alpha=0.0, class_weight=None,\n",
       "                       criterion='gini', max_depth=None, max_features='auto',\n",
       "                       max_leaf_nodes=None, max_samples=None,\n",
       "                       min_impurity_decrease=0.0, min_impurity_split=None,\n",
       "                       min_samples_leaf=1, min_samples_split=2,\n",
       "                       min_weight_fraction_leaf=0.0, n_estimators=100,\n",
       "                       n_jobs=None, oob_score=False, random_state=None,\n",
       "                       verbose=0, warm_start=False)"
      ]
     },
     "execution_count": 47,
     "metadata": {},
     "output_type": "execute_result"
    }
   ],
   "source": [
    "gender=dict({\n",
    "    \"F\":1,\n",
    "    \"M\":0\n",
    "    })\n",
    "df[\"GenderCode\"]=df[\"Gender\"].map(gender)\n",
    "df[\"Institute Name\"]=df[\"Institute Name\"].fillna(\"not define\")\n",
    "x=df[[\"Marks\",\"GenderCode\",\"cource_code\"]]\n",
    "y=df[\"Institute Name\"]\n",
    "print(x.shape)\n",
    "print(y.shape)\n",
    "forest=RandomForestClassifier()\n",
    "forest.fit(x,y)"
   ]
  },
  {
   "cell_type": "code",
   "execution_count": null,
   "metadata": {},
   "outputs": [],
   "source": []
  },
  {
   "cell_type": "code",
   "execution_count": null,
   "metadata": {},
   "outputs": [],
   "source": []
  },
  {
   "cell_type": "code",
   "execution_count": null,
   "metadata": {},
   "outputs": [],
   "source": []
  },
  {
   "cell_type": "code",
   "execution_count": null,
   "metadata": {},
   "outputs": [],
   "source": []
  },
  {
   "cell_type": "code",
   "execution_count": null,
   "metadata": {},
   "outputs": [],
   "source": []
  },
  {
   "cell_type": "code",
   "execution_count": 11,
   "metadata": {},
   "outputs": [],
   "source": [
    "n_estimators=[int(x) for x in np.linspace(start=100,stop=1200,num=12)]\n",
    "max_features = ['auto','sqrt']\n",
    "max_depth=[int (x) for x in np.linspace(5,30,num=6)]\n",
    "min_samples_split = [2,5,10,15,100]\n",
    "min_samples_leaf = [1, 2, 5]\n",
    "\n",
    "paramaters=dict({\n",
    "    \"n_estimators\":n_estimators,\n",
    "    \"max_features\":max_features,\n",
    "    \"max_depth\":max_depth,\n",
    "    \"min_samples_split\":min_samples_split,\n",
    "    \"min_samples_leaf\":min_samples_leaf,\n",
    "})"
   ]
  },
  {
   "cell_type": "code",
   "execution_count": 48,
   "metadata": {},
   "outputs": [
    {
     "data": {
      "text/plain": [
       "['DTVJNTA.csv',\n",
       " 'nan.csv',\n",
       " 'NT1.csv',\n",
       " 'NT2.csv',\n",
       " 'NT3.csv',\n",
       " 'OBC.csv',\n",
       " 'OPEN.csv',\n",
       " 'OPENEWS.csv',\n",
       " 'SBCOBC.csv',\n",
       " 'SC.csv',\n",
       " 'SEBC.csv',\n",
       " 'ST.csv']"
      ]
     },
     "execution_count": 48,
     "metadata": {},
     "output_type": "execute_result"
    }
   ],
   "source": [
    "file_name"
   ]
  },
  {
   "cell_type": "code",
   "execution_count": null,
   "metadata": {},
   "outputs": [],
   "source": []
  },
  {
   "cell_type": "code",
   "execution_count": null,
   "metadata": {},
   "outputs": [],
   "source": []
  },
  {
   "cell_type": "code",
   "execution_count": null,
   "metadata": {},
   "outputs": [],
   "source": [
    "import pickle\n"
   ]
  },
  {
   "cell_type": "code",
   "execution_count": null,
   "metadata": {},
   "outputs": [],
   "source": []
  },
  {
   "cell_type": "code",
   "execution_count": null,
   "metadata": {},
   "outputs": [],
   "source": []
  }
 ],
 "metadata": {
  "kernelspec": {
   "display_name": "Python 3",
   "language": "python",
   "name": "python3"
  },
  "language_info": {
   "codemirror_mode": {
    "name": "ipython",
    "version": 3
   },
   "file_extension": ".py",
   "mimetype": "text/x-python",
   "name": "python",
   "nbconvert_exporter": "python",
   "pygments_lexer": "ipython3",
   "version": "3.7.6"
  }
 },
 "nbformat": 4,
 "nbformat_minor": 4
}
