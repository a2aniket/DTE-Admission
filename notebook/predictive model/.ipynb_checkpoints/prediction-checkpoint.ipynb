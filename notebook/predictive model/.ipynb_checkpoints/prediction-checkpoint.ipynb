{
 "cells": [
  {
   "cell_type": "code",
   "execution_count": 1,
   "metadata": {},
   "outputs": [],
   "source": [
    "import pickle"
   ]
  },
  {
   "cell_type": "code",
   "execution_count": null,
   "metadata": {},
   "outputs": [],
   "source": [
    "file_name = '../../data/Train Model/model ST.c.pkl'\n",
    "model=pickle.load(open(file_name,'rb'))"
   ]
  },
  {
   "cell_type": "markdown",
   "metadata": {},
   "source": [
    "\"OPEN\":1,\n",
    "    \"OBC\":2,\n",
    "    \"SEBC\":3,\n",
    "    \"SC\":4,\n",
    "    \"OPEN/EWS\":5,\n",
    "    \"ST\":6,\n",
    "    \"NT1\":7,\n",
    "    \"NT2\":8,\n",
    "    \"NT3\":9,\n",
    "    \"SBC/OBC\":10,\n",
    "    \"DT/VJNT(A)\":11,\n",
    "    \"SBC\":12"
   ]
  },
  {
   "cell_type": "markdown",
   "metadata": {},
   "source": [
    "101:\"Chemical\",\n",
    "    102:\"Plastic\",\n",
    "    103:\"Food Technology\",\n",
    "    104:\"Oil and Paints Technology\",\n",
    "    105:\"\",\n",
    "    201 :\"Civil\",\n",
    "    301:\"Computer & IT\",\n",
    "    303:\" Medical Electronics\",\n",
    "    304:\"Electrical\",\n",
    "    302:\"ENTC\",\n",
    "    305:\"Instrumentation\",\n",
    "    401:\"Machanical\",\n",
    "    402:\"Production\",\n",
    "    403:\"Packaging Technology\",\n",
    "    404:\"Metallurgy (Foundry Technology)\",\n",
    "    405:\"Aeronautical Engineering\",\n",
    "    501:\"Mining\",\n",
    "    601:\"Printing Technology\",\n",
    "    701:\"Knitting Technology\",\n",
    "    702:\"Man made Textile Chemistry\","
   ]
  },
  {
   "cell_type": "code",
   "execution_count": null,
   "metadata": {},
   "outputs": [],
   "source": [
    "marks=float(input(\"Enter Mraks  :\"))\n",
    "Gender=int(input(\"Enter Gender 0: Male  1: Femail  :\"))\n",
    "Cast=int(input(\"Enter Cast id  :\"))\n",
    "Cource_code=int(input(\"Enter Course Code  :\"))\n",
    "predict=model.predict([marks,gender,Cource_code])"
   ]
  }
 ],
 "metadata": {
  "kernelspec": {
   "display_name": "Python 3",
   "language": "python",
   "name": "python3"
  },
  "language_info": {
   "codemirror_mode": {
    "name": "ipython",
    "version": 3
   },
   "file_extension": ".py",
   "mimetype": "text/x-python",
   "name": "python",
   "nbconvert_exporter": "python",
   "pygments_lexer": "ipython3",
   "version": "3.7.6"
  }
 },
 "nbformat": 4,
 "nbformat_minor": 4
}
